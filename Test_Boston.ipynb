{
 "cells": [
  {
   "cell_type": "markdown",
   "id": "brave-automation",
   "metadata": {},
   "source": [
    "# Sobol Indices - Boston Housing dataset"
   ]
  },
  {
   "cell_type": "code",
   "execution_count": null,
   "id": "practical-public",
   "metadata": {},
   "outputs": [],
   "source": [
    "\"\"\"\n",
    "    CRIM - per capita crime rate by town\n",
    "    ZN - proportion of residential land zoned for lots over 25,000 sq.ft.\n",
    "    INDUS - proportion of non-retail business acres per town.\n",
    "    CHAS - Charles River dummy variable (1 if tract bounds river; 0 otherwise)\n",
    "    NOX - nitric oxides concentration (parts per 10 million)\n",
    "    RM - average number of rooms per dwelling\n",
    "    AGE - proportion of owner-occupied units built prior to 1940\n",
    "    DIS - weighted distances to five Boston employment centres\n",
    "    RAD - index of accessibility to radial highways\n",
    "    TAX - full-value property-tax rate per $10,000\n",
    "    PTRATIO - pupil-teacher ratio by town\n",
    "    B - 1000(Bk - 0.63)^2 where Bk is the proportion of blacks by town\n",
    "    LSTAT - % lower status of the population\n",
    "    MEDV - Median value of owner-occupied homes in $1000's\n",
    "\"\"\""
   ]
  },
  {
   "cell_type": "markdown",
   "id": "wireless-medicare",
   "metadata": {},
   "source": [
    "## 1) Loading Boston Housing dataset, and fitting a Random Forest model"
   ]
  },
  {
   "cell_type": "code",
   "execution_count": 1,
   "id": "conscious-jenny",
   "metadata": {},
   "outputs": [
    {
     "name": "stdout",
     "output_type": "stream",
     "text": [
      "Boston Housing dataset loaded, shapes : (455, 13) (455,) (51, 13) (51,)\n",
      "Random Forest performance (train/test) : 90.24% / 87.40%\n"
     ]
    }
   ],
   "source": [
    "import sklearn.datasets as ds\n",
    "from sklearn.ensemble import RandomForestRegressor\n",
    "from sklearn.model_selection import train_test_split\n",
    "\n",
    "\n",
    "def load_boston_dataset():\n",
    "    data = ds.load_boston()\n",
    "    x, y = data.data, data.target\n",
    "    x_train, x_test, y_train, y_test = train_test_split(x, y, test_size=0.1, random_state=42)\n",
    "    print('Boston Housing dataset loaded, shapes :', x_train.shape, y_train.shape, x_test.shape, y_test.shape)\n",
    "    return (x_train, y_train), (x_test, y_test)\n",
    "\n",
    "def fit_random_forest(x_train, y_train, x_test, y_test):\n",
    "    rf = RandomForestRegressor(50, max_depth=5, min_samples_leaf=5)\n",
    "    rf.fit(x_train, y_train)\n",
    "    train_score, test_score = 100.0*rf.score(x_train, y_train), 100.0*rf.score(x_test, y_test)\n",
    "    print('Random Forest performance (train/test) : {:.02f}% / {:.02f}%'.format(train_score, test_score))\n",
    "    return rf\n",
    "\n",
    "\n",
    "# Load the Boston Housing dataset\n",
    "(x_train, y_train), (x_test, y_test) = load_boston_dataset()\n",
    "\n",
    "# Create and fit a Random Forest model on the dataset\n",
    "random_forest = fit_random_forest(x_train, y_train, x_test, y_test)"
   ]
  },
  {
   "cell_type": "code",
   "execution_count": null,
   "id": "maritime-bowling",
   "metadata": {},
   "outputs": [],
   "source": []
  },
  {
   "cell_type": "code",
   "execution_count": null,
   "id": "meaningful-tunisia",
   "metadata": {},
   "outputs": [],
   "source": []
  },
  {
   "cell_type": "code",
   "execution_count": null,
   "id": "regular-thread",
   "metadata": {},
   "outputs": [],
   "source": []
  },
  {
   "cell_type": "code",
   "execution_count": null,
   "id": "wrapped-tucson",
   "metadata": {},
   "outputs": [],
   "source": []
  },
  {
   "cell_type": "code",
   "execution_count": null,
   "id": "ancient-pharmacology",
   "metadata": {},
   "outputs": [],
   "source": []
  },
  {
   "cell_type": "code",
   "execution_count": 2,
   "id": "actual-weather",
   "metadata": {},
   "outputs": [],
   "source": [
    "import sklearn.datasets as ds\n",
    "from sklearn.ensemble import RandomForestRegressor\n",
    "from sklearn.model_selection import train_test_split\n",
    "import pandas as pd\n",
    "import numpy as np\n",
    "import os\n",
    "import matplotlib.pyplot as plt\n",
    "from sobol_indices.dataset_analyser import analyze\n",
    "# from CVM_indices.CVM_draft import analyze"
   ]
  },
  {
   "cell_type": "code",
   "execution_count": 3,
   "id": "tender-chapter",
   "metadata": {},
   "outputs": [],
   "source": [
    "pd.set_option('display.max_columns', None)\n",
    "pd.set_option('display.width', None)\n",
    "\n",
    "def pie_plot(indices, path=None):\n",
    "    # Data to plot\n",
    "    labels = indices.index.values\n",
    "    fig = plt.figure()\n",
    "    # fig.suptitle(\"with size propotional to the sum\")\n",
    "    axes = [fig.add_subplot(221), fig.add_subplot(222), fig.add_subplot(223), fig.add_subplot(224)]\n",
    "    titles = [\"S\", \"ST\", \"S_ind\", \"ST_ind\"]\n",
    "    sums = indices[titles].sum()\n",
    "    for i, feature in enumerate(titles):\n",
    "        sizes = indices[feature] / sums[feature]\n",
    "        # Plot\n",
    "        wedges, texts, autotext = axes[i].pie(sizes,autopct='%1.1f%%', shadow=False, radius=sums[feature] / sums.max())\n",
    "        axes[i].title.set_text(feature)\n",
    "        axes[i].legend(wedges, labels,\n",
    "          title=\"variables\",\n",
    "          loc=\"center left\",\n",
    "          bbox_to_anchor=(1, 0, 0.5, 1))\n",
    "    # plt.axis('equal')\n",
    "    plt.tight_layout()\n",
    "    if path is not None:\n",
    "        plt.savefig(path)\n",
    "    plt.show()\n",
    "\n",
    "\n",
    "def bar_plot(indices, path=None):\n",
    "    def _single_bar(ax, feat, pos, c):\n",
    "        yerr = np.stack([indices[feat] - indices[feat+\"_inf\"], indices[feat+\"_sup\"]-indices[feat]])\n",
    "        ax.bar(np.arange(len(indices)) + pos, indices[feat], 0.30, yerr=yerr, label=feat, color=c)\n",
    "    ax1 = plt.subplot2grid((2, 1), (0, 0))\n",
    "    _single_bar(ax1, \"S_ind\", -0.15, 'orange')\n",
    "    _single_bar(ax1, \"ST_ind\", +0.15, 'blue')\n",
    "    ax1.set_xticks(np.arange(len(indices)))\n",
    "    ax1.set_xticklabels(indices.index.values)\n",
    "    ax1.legend()\n",
    "\n",
    "    ax2 = plt.subplot2grid((2, 1), (1, 0))\n",
    "    _single_bar(ax2, \"S\", +0.15, 'red')\n",
    "    _single_bar(ax2, \"S_ind\", -0.15, 'orange')\n",
    "    ax2.set_xticks(np.arange(len(indices)))\n",
    "    ax2.set_xticklabels(indices.index.values)\n",
    "    ax2.legend()\n",
    "    if path is not None:\n",
    "        plt.savefig(path)\n",
    "    plt.show()"
   ]
  },
  {
   "cell_type": "code",
   "execution_count": 4,
   "id": "exceptional-heavy",
   "metadata": {},
   "outputs": [
    {
     "name": "stderr",
     "output_type": "stream",
     "text": [
      "\r",
      "  0%|          | 0/75 [00:00<?, ?it/s]"
     ]
    },
    {
     "name": "stdout",
     "output_type": "stream",
     "text": [
      "Training set score: 0.899265\n",
      "Test set score: 0.869122\n"
     ]
    },
    {
     "name": "stderr",
     "output_type": "stream",
     "text": [
      "100%|██████████| 75/75 [03:28<00:00,  2.78s/it]\n"
     ]
    }
   ],
   "source": [
    "data = ds.load_boston()\n",
    "x = data.data\n",
    "y = data.target\n",
    "x_train, x_test, y_train, y_test = train_test_split(x, y, test_size=0.1, random_state=42)\n",
    "rf = RandomForestRegressor(50, max_depth=5, min_samples_leaf=5)\n",
    "rf.fit(x_train, y_train)\n",
    "print(\"Training set score: %f\" % rf.score(x_train, y_train))\n",
    "print(\"Test set score: %f\" % rf.score(x_test, y_test))\n",
    "\n",
    "df = pd.DataFrame(x_test, columns=data.feature_names)\n",
    "# # df[\"target\"] = y_test\n",
    "# indices = analyze(df, \"target\")\n",
    "indices = analyze(rf.predict, df, n=1000, bs=75)\n",
    "#indices.to_csv('indices_out.csv')\n",
    "#indices.to_html('indices_out.html')\n",
    "#indices.to_latex('indices_out.tex')"
   ]
  },
  {
   "cell_type": "code",
   "execution_count": 7,
   "id": "tight-feature",
   "metadata": {},
   "outputs": [
    {
     "name": "stdout",
     "output_type": "stream",
     "text": [
      "[23.0380118  30.27561941 16.49056683 22.75576594 16.5115453  21.23502885\n",
      " 19.0795922  14.76880713 20.94006194 20.83741756 19.20047614 19.43905522\n",
      "  8.71615667 21.2162074  20.4679702  24.83174093 18.30009474  9.25530366\n",
      " 46.28429189 15.43203939 23.57402434 23.47706764 15.7505073  24.68590991\n",
      " 14.92273439 15.92759765 21.71675954 14.11629593 19.37569518 20.77881123\n",
      " 20.14567721 23.39397849 27.15505978 20.91046687 15.48049946 15.97509283\n",
      " 35.68471362 21.13828095 20.52800297 23.35408825 19.3611172  28.64723337\n",
      " 46.29852831 20.2150252  22.9310527  14.0631705  16.28671122 23.39397849\n",
      " 17.72148201 28.15973699 20.79937728]\n"
     ]
    }
   ],
   "source": [
    "preds = rf.predict(df)\n",
    "print(preds)\n",
    "#print(rf.predict)\n",
    "#print(df)"
   ]
  },
  {
   "cell_type": "code",
   "execution_count": 11,
   "id": "thousand-graduation",
   "metadata": {},
   "outputs": [
    {
     "name": "stdout",
     "output_type": "stream",
     "text": [
      "            S    ST  S_ind  ST_ind  S_inf  ST_inf  S_ind_inf  ST_ind_inf  \\\n",
      "CRIM     0.24  0.42   0.00    0.01   0.07    0.37        0.0        0.00   \n",
      "ZN       0.26  0.46   0.00    0.01   0.09    0.40        0.0        0.00   \n",
      "INDUS    0.22  0.42   0.00    0.01   0.03    0.37        0.0        0.00   \n",
      "CHAS     0.01  0.01   0.00    0.01   0.00    0.00        0.0        0.00   \n",
      "NOX      0.22  0.41   0.00    0.01   0.02    0.37        0.0        0.00   \n",
      "RM       0.67  0.78   0.04    0.14   0.46    0.67        0.0        0.07   \n",
      "AGE      0.30  0.49   0.00    0.01   0.12    0.45        0.0        0.00   \n",
      "DIS      0.18  0.34   0.00    0.01   0.06    0.28        0.0        0.00   \n",
      "RAD      0.11  0.28   0.00    0.01   0.00    0.22        0.0        0.00   \n",
      "TAX      0.21  0.36   0.00    0.01   0.05    0.30        0.0        0.00   \n",
      "PTRATIO  0.20  0.36   0.01    0.02   0.03    0.32        0.0        0.01   \n",
      "B        0.13  0.26   0.00    0.01   0.00    0.21        0.0        0.00   \n",
      "LSTAT    0.79  0.93   0.05    0.15   0.49    0.86        0.0        0.11   \n",
      "\n",
      "         S_sup  ST_sup  S_ind_sup  ST_ind_sup  \n",
      "CRIM      0.46    0.48       0.03        0.02  \n",
      "ZN        0.49    0.52       0.03        0.02  \n",
      "INDUS     0.43    0.48       0.02        0.02  \n",
      "CHAS      0.03    0.01       0.03        0.02  \n",
      "NOX       0.39    0.46       0.02        0.01  \n",
      "RM        0.93    0.86       0.13        0.18  \n",
      "AGE       0.53    0.56       0.02        0.02  \n",
      "DIS       0.34    0.39       0.02        0.01  \n",
      "RAD       0.29    0.34       0.02        0.02  \n",
      "TAX       0.40    0.43       0.02        0.02  \n",
      "PTRATIO   0.37    0.40       0.05        0.03  \n",
      "B         0.28    0.29       0.02        0.02  \n",
      "LSTAT     1.00    0.99       0.15        0.21  \n"
     ]
    }
   ],
   "source": [
    "print(indices)"
   ]
  },
  {
   "cell_type": "code",
   "execution_count": 10,
   "id": "bored-independence",
   "metadata": {},
   "outputs": [
    {
     "name": "stdout",
     "output_type": "stream",
     "text": [
      "            S    ST  S_ind  ST_ind\n",
      "CRIM     0.24  0.42   0.00    0.01\n",
      "ZN       0.26  0.46   0.00    0.01\n",
      "INDUS    0.22  0.42   0.00    0.01\n",
      "CHAS     0.01  0.01   0.00    0.01\n",
      "NOX      0.22  0.41   0.00    0.01\n",
      "RM       0.67  0.78   0.04    0.14\n",
      "AGE      0.30  0.49   0.00    0.01\n",
      "DIS      0.18  0.34   0.00    0.01\n",
      "RAD      0.11  0.28   0.00    0.01\n",
      "TAX      0.21  0.36   0.00    0.01\n",
      "PTRATIO  0.20  0.36   0.01    0.02\n",
      "B        0.13  0.26   0.00    0.01\n",
      "LSTAT    0.79  0.93   0.05    0.15\n"
     ]
    }
   ],
   "source": [
    "print(indices[['S', 'ST', 'S_ind', 'ST_ind']])"
   ]
  },
  {
   "cell_type": "code",
   "execution_count": null,
   "id": "genuine-crest",
   "metadata": {},
   "outputs": [],
   "source": []
  },
  {
   "cell_type": "code",
   "execution_count": 9,
   "id": "eligible-boutique",
   "metadata": {},
   "outputs": [],
   "source": [
    "# df[\"target\"] = y_test\n",
    "# df[\"target\"] = np.abs(df[\"target\"] - rf.predict(x_test))\n",
    "\n",
    "# # indices_err = analyze(df, \"target\")\n",
    "# indices_err = analyze(rf.predict, df, n=1000, bs=75)\n",
    "# indices_err.to_csv('indices_err.csv')\n",
    "# indices_err.to_html('indices_err.html')\n",
    "# indices_err.to_latex('indices_err.tex')\n",
    "\n",
    "# print(indices)\n",
    "# print(indices_err)\n",
    "# pie_plot(indices, 'sobol_pie.png')\n",
    "# bar_plot(indices, 'sobol_bars.png')\n",
    "# to_latex(indices, 'indices.tex')\n",
    "\n",
    "# pie_plot(indices_err, os.path.join('results', 'boston', 'sobol_pie.png'))\n",
    "# bar_plot(indices_err, os.path.join('results', 'boston', 'sobol_bars.png'))\n",
    "# to_latex(indices_err, os.path.join('results', 'boston', 'indices.tex'))"
   ]
  },
  {
   "cell_type": "code",
   "execution_count": null,
   "id": "chemical-length",
   "metadata": {},
   "outputs": [],
   "source": []
  },
  {
   "cell_type": "code",
   "execution_count": null,
   "id": "orange-cedar",
   "metadata": {},
   "outputs": [],
   "source": []
  },
  {
   "cell_type": "code",
   "execution_count": null,
   "id": "editorial-chamber",
   "metadata": {},
   "outputs": [],
   "source": []
  },
  {
   "cell_type": "code",
   "execution_count": null,
   "id": "adequate-tribune",
   "metadata": {},
   "outputs": [],
   "source": []
  },
  {
   "cell_type": "code",
   "execution_count": null,
   "id": "cathedral-carrier",
   "metadata": {},
   "outputs": [],
   "source": []
  }
 ],
 "metadata": {
  "kernelspec": {
   "display_name": "Python 3",
   "language": "python",
   "name": "python3"
  },
  "language_info": {
   "codemirror_mode": {
    "name": "ipython",
    "version": 3
   },
   "file_extension": ".py",
   "mimetype": "text/x-python",
   "name": "python",
   "nbconvert_exporter": "python",
   "pygments_lexer": "ipython3",
   "version": "3.6.9"
  }
 },
 "nbformat": 4,
 "nbformat_minor": 5
}
