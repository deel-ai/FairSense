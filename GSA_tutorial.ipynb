{
 "cells": [
  {
   "cell_type": "code",
   "execution_count": 1,
   "metadata": {
    "slideshow": {
     "slide_type": "skip"
    }
   },
   "outputs": [],
   "source": [
    "import os\n",
    "import sys\n",
    "import numpy as np\n",
    "import pandas as pd\n",
    "from sobol_indices.dataset_analyser import analyze\n",
    "from sobol_indices.test_sensivity_indices import gaussian_data_generator"
   ]
  },
  {
   "cell_type": "markdown",
   "metadata": {
    "slideshow": {
     "slide_type": "slide"
    }
   },
   "source": [
    "Introduction\n",
    "==========\n",
    "\n",
    "In this notebook we will show how sobol indices can be used to characterize the influence of the variable over the output of a function. Let's first describe how experiment will be performed."
   ]
  },
  {
   "cell_type": "markdown",
   "metadata": {
    "slideshow": {
     "slide_type": "slide"
    }
   },
   "source": [
    "Experimental setup\n",
    "------------------\n",
    "\n",
    "The analysis of the Dataset & function can be performed using the `analyse` function."
   ]
  },
  {
   "cell_type": "code",
   "execution_count": 2,
   "metadata": {
    "slideshow": {
     "slide_type": "fragment"
    }
   },
   "outputs": [],
   "source": [
    "def pretty_print(table):\n",
    "    table = table.copy()\n",
    "    for index in [\"S\", \"ST\", \"S_ind\", \"ST_ind\"]:\n",
    "        table[index] = np.vectorize(\n",
    "            lambda index_val, index_inf_val, index_sup_val: \"%.2f [%.2f, %.2f]\" %\n",
    "                                                            (index_val, index_inf_val, index_sup_val)\n",
    "        )(table[index], table[index+\"_inf\"], table[index+\"_sup\"])\n",
    "    return table[[\"S\", \"ST\", \"S_ind\", \"ST_ind\"]]\n",
    "\n",
    "def run_experiment(experiment_name, function, data_generator, data_generator_kwargs):\n",
    "    \"\"\"\n",
    "    Compute the sobol indices for a given function and a given input data sample.\n",
    "    \"\"\"\n",
    "    # use the generator to construct a data sample\n",
    "    data = data_generator(**data_generator_kwargs)\n",
    "    # compute the indices\n",
    "    indices_df = analyze(function, data, nsample, bs=bootstrap_size)\n",
    "    # return the dataframe with the results\n",
    "    return pretty_print(indices_df)"
   ]
  },
  {
   "cell_type": "markdown",
   "metadata": {
    "slideshow": {
     "slide_type": "fragment"
    }
   },
   "source": [
    "to generate our data we will use a function called `gaussian_data_generator`. It is a function that generate gaussian data. It has 7 parameters:\n",
    "- N: number of points in the output sample\n",
    "- sigma12 (resp. sigma13, sigma23): correlation coefficient bewteen the 1st and the 2nd variable (resp. 1st/3rd and 2nd/3rd)\n",
    "- var1 (resp. var2, var3): variance of the 1st (resp. 2nd, 3rd) variable.\n",
    "\n",
    "This will allow us to control how correlation/variance affect the sobol indices."
   ]
  },
  {
   "cell_type": "markdown",
   "metadata": {
    "slideshow": {
     "slide_type": "slide"
    }
   },
   "source": [
    "now we will define parameters common to every experiment"
   ]
  },
  {
   "cell_type": "code",
   "execution_count": 3,
   "metadata": {
    "slideshow": {
     "slide_type": "fragment"
    }
   },
   "outputs": [],
   "source": [
    "nsample = 1 * 10 ** 4  # how many point are used to evaluate the monte carlo estimator for the sobol indices\n",
    "data_sample = 1 * 10 ** 4 # how many point are sample to constitute the dataset (used in the generator)\n",
    "bootstrap_size = 150  # how many time we repeat the evaluation in order to construct confidence intervals"
   ]
  },
  {
   "cell_type": "markdown",
   "metadata": {
    "slideshow": {
     "slide_type": "slide"
    }
   },
   "source": [
    "Trivial example\n",
    "---------------------\n",
    "\n",
    "Sobol indice can be read as:\n",
    "> how much of the output variance can be explained by the variance of Xi?\n",
    "\n",
    "This yield indices ranging from 0 to 1."
   ]
  },
  {
   "cell_type": "markdown",
   "metadata": {
    "slideshow": {
     "slide_type": "slide"
    }
   },
   "source": [
    "The next cell shows the indices values for the following function:\n",
    "$$ f(x) = 2x_0 + x_1 $$\n",
    "When the inputs follows independent and centered gaussian distributions."
   ]
  },
  {
   "cell_type": "code",
   "execution_count": 4,
   "metadata": {
    "slideshow": {
     "slide_type": "fragment"
    }
   },
   "outputs": [
    {
     "data": {
      "text/html": [
       "<div>\n",
       "<style scoped>\n",
       "    .dataframe tbody tr th:only-of-type {\n",
       "        vertical-align: middle;\n",
       "    }\n",
       "\n",
       "    .dataframe tbody tr th {\n",
       "        vertical-align: top;\n",
       "    }\n",
       "\n",
       "    .dataframe thead th {\n",
       "        text-align: right;\n",
       "    }\n",
       "</style>\n",
       "<table border=\"1\" class=\"dataframe\">\n",
       "  <thead>\n",
       "    <tr style=\"text-align: right;\">\n",
       "      <th></th>\n",
       "      <th>S</th>\n",
       "      <th>ST</th>\n",
       "      <th>S_ind</th>\n",
       "      <th>ST_ind</th>\n",
       "    </tr>\n",
       "  </thead>\n",
       "  <tbody>\n",
       "    <tr>\n",
       "      <th>X0</th>\n",
       "      <td>0.80 [0.74, 0.85]</td>\n",
       "      <td>0.80 [0.76, 0.84]</td>\n",
       "      <td>0.79 [0.75, 0.84]</td>\n",
       "      <td>0.79 [0.75, 0.84]</td>\n",
       "    </tr>\n",
       "    <tr>\n",
       "      <th>X1</th>\n",
       "      <td>0.20 [0.17, 0.24]</td>\n",
       "      <td>0.20 [0.19, 0.21]</td>\n",
       "      <td>0.20 [0.17, 0.24]</td>\n",
       "      <td>0.20 [0.17, 0.24]</td>\n",
       "    </tr>\n",
       "    <tr>\n",
       "      <th>X2</th>\n",
       "      <td>0.00 [0.00, 0.00]</td>\n",
       "      <td>0.00 [0.00, 0.00]</td>\n",
       "      <td>0.00 [0.00, 0.00]</td>\n",
       "      <td>0.00 [0.00, 0.00]</td>\n",
       "    </tr>\n",
       "  </tbody>\n",
       "</table>\n",
       "</div>"
      ],
      "text/plain": [
       "                    S                 ST              S_ind             ST_ind\n",
       "X0  0.80 [0.74, 0.85]  0.80 [0.76, 0.84]  0.79 [0.75, 0.84]  0.79 [0.75, 0.84]\n",
       "X1  0.20 [0.17, 0.24]  0.20 [0.19, 0.21]  0.20 [0.17, 0.24]  0.20 [0.17, 0.24]\n",
       "X2  0.00 [0.00, 0.00]  0.00 [0.00, 0.00]  0.00 [0.00, 0.00]  0.00 [0.00, 0.00]"
      ]
     },
     "execution_count": 4,
     "metadata": {},
     "output_type": "execute_result"
    }
   ],
   "source": [
    "func1 = lambda x: 2 * x[:, 0] + 1 * x[:, 1]\n",
    "run_experiment(\n",
    "        \"simple example\",\n",
    "        function=func1,\n",
    "        data_generator=gaussian_data_generator,\n",
    "        data_generator_kwargs=dict(sigma12=0., sigma13=0., sigma23=0., N=data_sample))"
   ]
  },
  {
   "cell_type": "markdown",
   "metadata": {
    "slideshow": {
     "slide_type": "fragment"
    }
   },
   "source": [
    "This show tha most of the output variance can be explained by X0 and some of the output variance can be explained by x1.\n",
    "\n",
    "As we can aslo see S, ST, S_ind and ST_ind have same values. This is because the inputs are independents, and the function don't have joint effects."
   ]
  },
  {
   "cell_type": "markdown",
   "metadata": {
    "slideshow": {
     "slide_type": "slide"
    }
   },
   "source": [
    "Scale independance (outputs)\n",
    "-----------------------------\n",
    "\n",
    "\n",
    "Now we will show a basic property of sobol indices: scaling the output don't change the indices. This will be done with two functions\n",
    "$$ f(x)=x_0 $$\n",
    "$$ f(x)=10x_0 $$"
   ]
  },
  {
   "cell_type": "code",
   "execution_count": 5,
   "metadata": {
    "slideshow": {
     "slide_type": "fragment"
    }
   },
   "outputs": [],
   "source": [
    "func2 = lambda x: x[:, 0]\n",
    "func2bis = lambda x: 10 * x[:, 0]"
   ]
  },
  {
   "cell_type": "code",
   "execution_count": 6,
   "metadata": {
    "slideshow": {
     "slide_type": "slide"
    }
   },
   "outputs": [
    {
     "data": {
      "text/html": [
       "<div>\n",
       "<style scoped>\n",
       "    .dataframe tbody tr th:only-of-type {\n",
       "        vertical-align: middle;\n",
       "    }\n",
       "\n",
       "    .dataframe tbody tr th {\n",
       "        vertical-align: top;\n",
       "    }\n",
       "\n",
       "    .dataframe thead th {\n",
       "        text-align: right;\n",
       "    }\n",
       "</style>\n",
       "<table border=\"1\" class=\"dataframe\">\n",
       "  <thead>\n",
       "    <tr style=\"text-align: right;\">\n",
       "      <th></th>\n",
       "      <th>S</th>\n",
       "      <th>ST</th>\n",
       "      <th>S_ind</th>\n",
       "      <th>ST_ind</th>\n",
       "    </tr>\n",
       "  </thead>\n",
       "  <tbody>\n",
       "    <tr>\n",
       "      <th>X0</th>\n",
       "      <td>1.00 [0.94, 1.00]</td>\n",
       "      <td>1.00 [0.94, 1.00]</td>\n",
       "      <td>1.00 [0.95, 1.00]</td>\n",
       "      <td>1.00 [0.95, 1.00]</td>\n",
       "    </tr>\n",
       "    <tr>\n",
       "      <th>X1</th>\n",
       "      <td>0.00 [0.00, 0.00]</td>\n",
       "      <td>0.00 [0.00, 0.00]</td>\n",
       "      <td>0.00 [0.00, 0.00]</td>\n",
       "      <td>0.00 [0.00, 0.00]</td>\n",
       "    </tr>\n",
       "    <tr>\n",
       "      <th>X2</th>\n",
       "      <td>0.00 [0.00, 0.00]</td>\n",
       "      <td>0.00 [0.00, 0.00]</td>\n",
       "      <td>0.00 [0.00, 0.00]</td>\n",
       "      <td>0.00 [0.00, 0.00]</td>\n",
       "    </tr>\n",
       "  </tbody>\n",
       "</table>\n",
       "</div>"
      ],
      "text/plain": [
       "                    S                 ST              S_ind             ST_ind\n",
       "X0  1.00 [0.94, 1.00]  1.00 [0.94, 1.00]  1.00 [0.95, 1.00]  1.00 [0.95, 1.00]\n",
       "X1  0.00 [0.00, 0.00]  0.00 [0.00, 0.00]  0.00 [0.00, 0.00]  0.00 [0.00, 0.00]\n",
       "X2  0.00 [0.00, 0.00]  0.00 [0.00, 0.00]  0.00 [0.00, 0.00]  0.00 [0.00, 0.00]"
      ]
     },
     "execution_count": 6,
     "metadata": {},
     "output_type": "execute_result"
    }
   ],
   "source": [
    "run_experiment(\n",
    "        \"output_scaling_1\",\n",
    "        function=func2,\n",
    "        data_generator=gaussian_data_generator,\n",
    "        data_generator_kwargs=dict(sigma12=0., sigma13=0., sigma23=0., N=data_sample))"
   ]
  },
  {
   "cell_type": "code",
   "execution_count": 7,
   "metadata": {
    "slideshow": {
     "slide_type": "fragment"
    }
   },
   "outputs": [
    {
     "data": {
      "text/html": [
       "<div>\n",
       "<style scoped>\n",
       "    .dataframe tbody tr th:only-of-type {\n",
       "        vertical-align: middle;\n",
       "    }\n",
       "\n",
       "    .dataframe tbody tr th {\n",
       "        vertical-align: top;\n",
       "    }\n",
       "\n",
       "    .dataframe thead th {\n",
       "        text-align: right;\n",
       "    }\n",
       "</style>\n",
       "<table border=\"1\" class=\"dataframe\">\n",
       "  <thead>\n",
       "    <tr style=\"text-align: right;\">\n",
       "      <th></th>\n",
       "      <th>S</th>\n",
       "      <th>ST</th>\n",
       "      <th>S_ind</th>\n",
       "      <th>ST_ind</th>\n",
       "    </tr>\n",
       "  </thead>\n",
       "  <tbody>\n",
       "    <tr>\n",
       "      <th>X0</th>\n",
       "      <td>1.00 [0.96, 1.00]</td>\n",
       "      <td>1.00 [0.96, 1.00]</td>\n",
       "      <td>1.00 [0.94, 1.00]</td>\n",
       "      <td>1.00 [0.94, 1.00]</td>\n",
       "    </tr>\n",
       "    <tr>\n",
       "      <th>X1</th>\n",
       "      <td>0.00 [0.00, 0.00]</td>\n",
       "      <td>0.00 [0.00, 0.00]</td>\n",
       "      <td>0.00 [0.00, 0.00]</td>\n",
       "      <td>0.00 [0.00, 0.00]</td>\n",
       "    </tr>\n",
       "    <tr>\n",
       "      <th>X2</th>\n",
       "      <td>0.00 [0.00, 0.00]</td>\n",
       "      <td>0.00 [0.00, 0.00]</td>\n",
       "      <td>0.00 [0.00, 0.00]</td>\n",
       "      <td>0.00 [0.00, 0.00]</td>\n",
       "    </tr>\n",
       "  </tbody>\n",
       "</table>\n",
       "</div>"
      ],
      "text/plain": [
       "                    S                 ST              S_ind             ST_ind\n",
       "X0  1.00 [0.96, 1.00]  1.00 [0.96, 1.00]  1.00 [0.94, 1.00]  1.00 [0.94, 1.00]\n",
       "X1  0.00 [0.00, 0.00]  0.00 [0.00, 0.00]  0.00 [0.00, 0.00]  0.00 [0.00, 0.00]\n",
       "X2  0.00 [0.00, 0.00]  0.00 [0.00, 0.00]  0.00 [0.00, 0.00]  0.00 [0.00, 0.00]"
      ]
     },
     "execution_count": 7,
     "metadata": {},
     "output_type": "execute_result"
    }
   ],
   "source": [
    "run_experiment(\n",
    "        \"output_scaling_2\",\n",
    "        function=func2bis,\n",
    "        data_generator=gaussian_data_generator,\n",
    "        data_generator_kwargs=dict(sigma12=0., sigma13=0., sigma23=0., N=data_sample))"
   ]
  },
  {
   "cell_type": "markdown",
   "metadata": {
    "slideshow": {
     "slide_type": "slide"
    }
   },
   "source": [
    "Scale independence (inputs)\n",
    "-----------------------------------------\n",
    "\n",
    "If we scale **all** inputs by the **same** factor, the indices won't change."
   ]
  },
  {
   "cell_type": "code",
   "execution_count": 8,
   "metadata": {
    "slideshow": {
     "slide_type": "slide"
    }
   },
   "outputs": [
    {
     "data": {
      "text/html": [
       "<div>\n",
       "<style scoped>\n",
       "    .dataframe tbody tr th:only-of-type {\n",
       "        vertical-align: middle;\n",
       "    }\n",
       "\n",
       "    .dataframe tbody tr th {\n",
       "        vertical-align: top;\n",
       "    }\n",
       "\n",
       "    .dataframe thead th {\n",
       "        text-align: right;\n",
       "    }\n",
       "</style>\n",
       "<table border=\"1\" class=\"dataframe\">\n",
       "  <thead>\n",
       "    <tr style=\"text-align: right;\">\n",
       "      <th></th>\n",
       "      <th>S</th>\n",
       "      <th>ST</th>\n",
       "      <th>S_ind</th>\n",
       "      <th>ST_ind</th>\n",
       "    </tr>\n",
       "  </thead>\n",
       "  <tbody>\n",
       "    <tr>\n",
       "      <th>X0</th>\n",
       "      <td>1.00 [0.94, 1.00]</td>\n",
       "      <td>1.00 [0.94, 1.00]</td>\n",
       "      <td>1.00 [0.94, 1.00]</td>\n",
       "      <td>1.00 [0.94, 1.00]</td>\n",
       "    </tr>\n",
       "    <tr>\n",
       "      <th>X1</th>\n",
       "      <td>0.00 [0.00, 0.00]</td>\n",
       "      <td>0.00 [0.00, 0.00]</td>\n",
       "      <td>0.00 [0.00, 0.00]</td>\n",
       "      <td>0.00 [0.00, 0.00]</td>\n",
       "    </tr>\n",
       "    <tr>\n",
       "      <th>X2</th>\n",
       "      <td>0.00 [0.00, 0.00]</td>\n",
       "      <td>0.00 [0.00, 0.00]</td>\n",
       "      <td>0.00 [0.00, 0.00]</td>\n",
       "      <td>0.00 [0.00, 0.00]</td>\n",
       "    </tr>\n",
       "  </tbody>\n",
       "</table>\n",
       "</div>"
      ],
      "text/plain": [
       "                    S                 ST              S_ind             ST_ind\n",
       "X0  1.00 [0.94, 1.00]  1.00 [0.94, 1.00]  1.00 [0.94, 1.00]  1.00 [0.94, 1.00]\n",
       "X1  0.00 [0.00, 0.00]  0.00 [0.00, 0.00]  0.00 [0.00, 0.00]  0.00 [0.00, 0.00]\n",
       "X2  0.00 [0.00, 0.00]  0.00 [0.00, 0.00]  0.00 [0.00, 0.00]  0.00 [0.00, 0.00]"
      ]
     },
     "execution_count": 8,
     "metadata": {},
     "output_type": "execute_result"
    }
   ],
   "source": [
    "run_experiment(\n",
    "    \"input_scaling_1\",\n",
    "    function=func2,\n",
    "    data_generator=gaussian_data_generator,\n",
    "    data_generator_kwargs=dict(sigma12=0., sigma13=0., sigma23=0., var1=1., N=data_sample))"
   ]
  },
  {
   "cell_type": "markdown",
   "metadata": {
    "slideshow": {
     "slide_type": "fragment"
    }
   },
   "source": [
    "now we change the variance of x0 from 1 to 10."
   ]
  },
  {
   "cell_type": "code",
   "execution_count": 9,
   "metadata": {
    "slideshow": {
     "slide_type": "fragment"
    }
   },
   "outputs": [
    {
     "data": {
      "text/html": [
       "<div>\n",
       "<style scoped>\n",
       "    .dataframe tbody tr th:only-of-type {\n",
       "        vertical-align: middle;\n",
       "    }\n",
       "\n",
       "    .dataframe tbody tr th {\n",
       "        vertical-align: top;\n",
       "    }\n",
       "\n",
       "    .dataframe thead th {\n",
       "        text-align: right;\n",
       "    }\n",
       "</style>\n",
       "<table border=\"1\" class=\"dataframe\">\n",
       "  <thead>\n",
       "    <tr style=\"text-align: right;\">\n",
       "      <th></th>\n",
       "      <th>S</th>\n",
       "      <th>ST</th>\n",
       "      <th>S_ind</th>\n",
       "      <th>ST_ind</th>\n",
       "    </tr>\n",
       "  </thead>\n",
       "  <tbody>\n",
       "    <tr>\n",
       "      <th>X0</th>\n",
       "      <td>1.00 [0.95, 1.00]</td>\n",
       "      <td>1.00 [0.95, 1.00]</td>\n",
       "      <td>1.00 [0.96, 1.00]</td>\n",
       "      <td>1.00 [0.95, 1.00]</td>\n",
       "    </tr>\n",
       "    <tr>\n",
       "      <th>X1</th>\n",
       "      <td>0.00 [0.00, 0.00]</td>\n",
       "      <td>0.00 [0.00, 0.00]</td>\n",
       "      <td>0.00 [0.00, 0.00]</td>\n",
       "      <td>0.00 [0.00, 0.00]</td>\n",
       "    </tr>\n",
       "    <tr>\n",
       "      <th>X2</th>\n",
       "      <td>0.00 [0.00, 0.00]</td>\n",
       "      <td>0.00 [0.00, 0.00]</td>\n",
       "      <td>0.00 [0.00, 0.00]</td>\n",
       "      <td>0.00 [0.00, 0.00]</td>\n",
       "    </tr>\n",
       "  </tbody>\n",
       "</table>\n",
       "</div>"
      ],
      "text/plain": [
       "                    S                 ST              S_ind             ST_ind\n",
       "X0  1.00 [0.95, 1.00]  1.00 [0.95, 1.00]  1.00 [0.96, 1.00]  1.00 [0.95, 1.00]\n",
       "X1  0.00 [0.00, 0.00]  0.00 [0.00, 0.00]  0.00 [0.00, 0.00]  0.00 [0.00, 0.00]\n",
       "X2  0.00 [0.00, 0.00]  0.00 [0.00, 0.00]  0.00 [0.00, 0.00]  0.00 [0.00, 0.00]"
      ]
     },
     "execution_count": 9,
     "metadata": {},
     "output_type": "execute_result"
    }
   ],
   "source": [
    "run_experiment(\n",
    "    \"input_scaling_2\",\n",
    "    function=func2,\n",
    "    data_generator=gaussian_data_generator,\n",
    "    data_generator_kwargs=dict(sigma12=0., sigma13=0., sigma23=0., var1=10, N=data_sample))"
   ]
  },
  {
   "cell_type": "markdown",
   "metadata": {
    "slideshow": {
     "slide_type": "slide"
    }
   },
   "source": [
    "Impact of input distribution\n",
    "---------------------------------------\n",
    "\n",
    "The indices can be affected by changes in input distribution:\n",
    "For instance the function:\n",
    "$$ f(x)=x0 + x1 $$ won't give the same result when $$ \\sigma_0 = 1 \\quad \\sigma_1 = 1 $$ and when $$ \\sigma_0 = 10 \\quad \\sigma_1 = 1 $$"
   ]
  },
  {
   "cell_type": "code",
   "execution_count": 10,
   "metadata": {
    "slideshow": {
     "slide_type": "fragment"
    }
   },
   "outputs": [],
   "source": [
    "func3 = lambda x: x[:, 0] + x[:, 1]"
   ]
  },
  {
   "cell_type": "code",
   "execution_count": 11,
   "metadata": {
    "slideshow": {
     "slide_type": "slide"
    }
   },
   "outputs": [
    {
     "data": {
      "text/html": [
       "<div>\n",
       "<style scoped>\n",
       "    .dataframe tbody tr th:only-of-type {\n",
       "        vertical-align: middle;\n",
       "    }\n",
       "\n",
       "    .dataframe tbody tr th {\n",
       "        vertical-align: top;\n",
       "    }\n",
       "\n",
       "    .dataframe thead th {\n",
       "        text-align: right;\n",
       "    }\n",
       "</style>\n",
       "<table border=\"1\" class=\"dataframe\">\n",
       "  <thead>\n",
       "    <tr style=\"text-align: right;\">\n",
       "      <th></th>\n",
       "      <th>S</th>\n",
       "      <th>ST</th>\n",
       "      <th>S_ind</th>\n",
       "      <th>ST_ind</th>\n",
       "    </tr>\n",
       "  </thead>\n",
       "  <tbody>\n",
       "    <tr>\n",
       "      <th>X0</th>\n",
       "      <td>0.50 [0.46, 0.54]</td>\n",
       "      <td>0.50 [0.47, 0.52]</td>\n",
       "      <td>0.51 [0.47, 0.56]</td>\n",
       "      <td>0.51 [0.46, 0.55]</td>\n",
       "    </tr>\n",
       "    <tr>\n",
       "      <th>X1</th>\n",
       "      <td>0.49 [0.44, 0.54]</td>\n",
       "      <td>0.49 [0.47, 0.52]</td>\n",
       "      <td>0.50 [0.46, 0.56]</td>\n",
       "      <td>0.50 [0.45, 0.55]</td>\n",
       "    </tr>\n",
       "    <tr>\n",
       "      <th>X2</th>\n",
       "      <td>0.00 [0.00, 0.00]</td>\n",
       "      <td>0.00 [0.00, 0.00]</td>\n",
       "      <td>0.00 [0.00, 0.00]</td>\n",
       "      <td>0.00 [0.00, 0.00]</td>\n",
       "    </tr>\n",
       "  </tbody>\n",
       "</table>\n",
       "</div>"
      ],
      "text/plain": [
       "                    S                 ST              S_ind             ST_ind\n",
       "X0  0.50 [0.46, 0.54]  0.50 [0.47, 0.52]  0.51 [0.47, 0.56]  0.51 [0.46, 0.55]\n",
       "X1  0.49 [0.44, 0.54]  0.49 [0.47, 0.52]  0.50 [0.46, 0.56]  0.50 [0.45, 0.55]\n",
       "X2  0.00 [0.00, 0.00]  0.00 [0.00, 0.00]  0.00 [0.00, 0.00]  0.00 [0.00, 0.00]"
      ]
     },
     "execution_count": 11,
     "metadata": {},
     "output_type": "execute_result"
    }
   ],
   "source": [
    "run_experiment(\n",
    "    \"distribution_1\",\n",
    "    function=func3,\n",
    "    data_generator=gaussian_data_generator,\n",
    "    data_generator_kwargs=dict(sigma12=0., sigma13=0., sigma23=0., var1=1., N=data_sample))"
   ]
  },
  {
   "cell_type": "code",
   "execution_count": 12,
   "metadata": {
    "slideshow": {
     "slide_type": "fragment"
    }
   },
   "outputs": [
    {
     "data": {
      "text/html": [
       "<div>\n",
       "<style scoped>\n",
       "    .dataframe tbody tr th:only-of-type {\n",
       "        vertical-align: middle;\n",
       "    }\n",
       "\n",
       "    .dataframe tbody tr th {\n",
       "        vertical-align: top;\n",
       "    }\n",
       "\n",
       "    .dataframe thead th {\n",
       "        text-align: right;\n",
       "    }\n",
       "</style>\n",
       "<table border=\"1\" class=\"dataframe\">\n",
       "  <thead>\n",
       "    <tr style=\"text-align: right;\">\n",
       "      <th></th>\n",
       "      <th>S</th>\n",
       "      <th>ST</th>\n",
       "      <th>S_ind</th>\n",
       "      <th>ST_ind</th>\n",
       "    </tr>\n",
       "  </thead>\n",
       "  <tbody>\n",
       "    <tr>\n",
       "      <th>X0</th>\n",
       "      <td>0.85 [0.80, 0.91]</td>\n",
       "      <td>0.86 [0.81, 0.90]</td>\n",
       "      <td>0.86 [0.81, 0.92]</td>\n",
       "      <td>0.86 [0.82, 0.91]</td>\n",
       "    </tr>\n",
       "    <tr>\n",
       "      <th>X1</th>\n",
       "      <td>0.14 [0.11, 0.17]</td>\n",
       "      <td>0.14 [0.13, 0.15]</td>\n",
       "      <td>0.14 [0.11, 0.17]</td>\n",
       "      <td>0.14 [0.12, 0.17]</td>\n",
       "    </tr>\n",
       "    <tr>\n",
       "      <th>X2</th>\n",
       "      <td>0.00 [0.00, 0.00]</td>\n",
       "      <td>0.00 [0.00, 0.00]</td>\n",
       "      <td>0.00 [0.00, 0.00]</td>\n",
       "      <td>0.00 [0.00, 0.00]</td>\n",
       "    </tr>\n",
       "  </tbody>\n",
       "</table>\n",
       "</div>"
      ],
      "text/plain": [
       "                    S                 ST              S_ind             ST_ind\n",
       "X0  0.85 [0.80, 0.91]  0.86 [0.81, 0.90]  0.86 [0.81, 0.92]  0.86 [0.82, 0.91]\n",
       "X1  0.14 [0.11, 0.17]  0.14 [0.13, 0.15]  0.14 [0.11, 0.17]  0.14 [0.12, 0.17]\n",
       "X2  0.00 [0.00, 0.00]  0.00 [0.00, 0.00]  0.00 [0.00, 0.00]  0.00 [0.00, 0.00]"
      ]
     },
     "execution_count": 12,
     "metadata": {},
     "output_type": "execute_result"
    }
   ],
   "source": [
    "run_experiment(\n",
    "        \"distribution_2\",\n",
    "        function=func3,\n",
    "        data_generator=gaussian_data_generator,\n",
    "        data_generator_kwargs=dict(sigma12=0., sigma13=0., sigma23=0., var1=10., N=data_sample))"
   ]
  },
  {
   "cell_type": "markdown",
   "metadata": {
    "slideshow": {
     "slide_type": "slide"
    }
   },
   "source": [
    "Impact of correlations\n",
    "-------------------------------\n",
    "\n",
    "However the indices are affected by the correlations. Comparing the values of S with S_ind and ST with ST_ind can reveal this.\n",
    "\n",
    "Now we will show how by using the function:\n",
    "$$ f(x)=x_0 $$"
   ]
  },
  {
   "cell_type": "code",
   "execution_count": 13,
   "metadata": {
    "slideshow": {
     "slide_type": "slide"
    }
   },
   "outputs": [
    {
     "data": {
      "text/html": [
       "<div>\n",
       "<style scoped>\n",
       "    .dataframe tbody tr th:only-of-type {\n",
       "        vertical-align: middle;\n",
       "    }\n",
       "\n",
       "    .dataframe tbody tr th {\n",
       "        vertical-align: top;\n",
       "    }\n",
       "\n",
       "    .dataframe thead th {\n",
       "        text-align: right;\n",
       "    }\n",
       "</style>\n",
       "<table border=\"1\" class=\"dataframe\">\n",
       "  <thead>\n",
       "    <tr style=\"text-align: right;\">\n",
       "      <th></th>\n",
       "      <th>S</th>\n",
       "      <th>ST</th>\n",
       "      <th>S_ind</th>\n",
       "      <th>ST_ind</th>\n",
       "    </tr>\n",
       "  </thead>\n",
       "  <tbody>\n",
       "    <tr>\n",
       "      <th>X0</th>\n",
       "      <td>1.00 [0.95, 1.00]</td>\n",
       "      <td>1.00 [0.95, 1.00]</td>\n",
       "      <td>1.00 [0.96, 1.00]</td>\n",
       "      <td>1.00 [0.96, 1.00]</td>\n",
       "    </tr>\n",
       "    <tr>\n",
       "      <th>X1</th>\n",
       "      <td>0.00 [0.00, 0.00]</td>\n",
       "      <td>0.00 [0.00, 0.00]</td>\n",
       "      <td>0.00 [0.00, 0.00]</td>\n",
       "      <td>0.00 [0.00, 0.00]</td>\n",
       "    </tr>\n",
       "    <tr>\n",
       "      <th>X2</th>\n",
       "      <td>0.00 [0.00, 0.00]</td>\n",
       "      <td>0.00 [0.00, 0.00]</td>\n",
       "      <td>0.00 [0.00, 0.00]</td>\n",
       "      <td>0.00 [0.00, 0.00]</td>\n",
       "    </tr>\n",
       "  </tbody>\n",
       "</table>\n",
       "</div>"
      ],
      "text/plain": [
       "                    S                 ST              S_ind             ST_ind\n",
       "X0  1.00 [0.95, 1.00]  1.00 [0.95, 1.00]  1.00 [0.96, 1.00]  1.00 [0.96, 1.00]\n",
       "X1  0.00 [0.00, 0.00]  0.00 [0.00, 0.00]  0.00 [0.00, 0.00]  0.00 [0.00, 0.00]\n",
       "X2  0.00 [0.00, 0.00]  0.00 [0.00, 0.00]  0.00 [0.00, 0.00]  0.00 [0.00, 0.00]"
      ]
     },
     "execution_count": 13,
     "metadata": {},
     "output_type": "execute_result"
    }
   ],
   "source": [
    "run_experiment(\n",
    "        \"correlation_1\",\n",
    "        function=func2,\n",
    "        data_generator=gaussian_data_generator,\n",
    "        data_generator_kwargs=dict(sigma12=0., sigma13=0., sigma23=0., N=data_sample))"
   ]
  },
  {
   "cell_type": "markdown",
   "metadata": {
    "slideshow": {
     "slide_type": "fragment"
    }
   },
   "source": [
    "now we add a 0.6 correlation coefficient between x0 and x1."
   ]
  },
  {
   "cell_type": "code",
   "execution_count": 14,
   "metadata": {
    "slideshow": {
     "slide_type": "fragment"
    }
   },
   "outputs": [
    {
     "data": {
      "text/html": [
       "<div>\n",
       "<style scoped>\n",
       "    .dataframe tbody tr th:only-of-type {\n",
       "        vertical-align: middle;\n",
       "    }\n",
       "\n",
       "    .dataframe tbody tr th {\n",
       "        vertical-align: top;\n",
       "    }\n",
       "\n",
       "    .dataframe thead th {\n",
       "        text-align: right;\n",
       "    }\n",
       "</style>\n",
       "<table border=\"1\" class=\"dataframe\">\n",
       "  <thead>\n",
       "    <tr style=\"text-align: right;\">\n",
       "      <th></th>\n",
       "      <th>S</th>\n",
       "      <th>ST</th>\n",
       "      <th>S_ind</th>\n",
       "      <th>ST_ind</th>\n",
       "    </tr>\n",
       "  </thead>\n",
       "  <tbody>\n",
       "    <tr>\n",
       "      <th>X0</th>\n",
       "      <td>1.00 [0.95, 1.00]</td>\n",
       "      <td>1.00 [0.95, 1.00]</td>\n",
       "      <td>0.65 [0.61, 0.70]</td>\n",
       "      <td>0.65 [0.61, 0.70]</td>\n",
       "    </tr>\n",
       "    <tr>\n",
       "      <th>X1</th>\n",
       "      <td>0.35 [0.31, 0.38]</td>\n",
       "      <td>0.35 [0.33, 0.37]</td>\n",
       "      <td>0.00 [0.00, 0.00]</td>\n",
       "      <td>0.00 [0.00, 0.00]</td>\n",
       "    </tr>\n",
       "    <tr>\n",
       "      <th>X2</th>\n",
       "      <td>0.00 [0.00, 0.00]</td>\n",
       "      <td>0.00 [0.00, 0.00]</td>\n",
       "      <td>0.00 [0.00, 0.00]</td>\n",
       "      <td>0.00 [0.00, 0.00]</td>\n",
       "    </tr>\n",
       "  </tbody>\n",
       "</table>\n",
       "</div>"
      ],
      "text/plain": [
       "                    S                 ST              S_ind             ST_ind\n",
       "X0  1.00 [0.95, 1.00]  1.00 [0.95, 1.00]  0.65 [0.61, 0.70]  0.65 [0.61, 0.70]\n",
       "X1  0.35 [0.31, 0.38]  0.35 [0.33, 0.37]  0.00 [0.00, 0.00]  0.00 [0.00, 0.00]\n",
       "X2  0.00 [0.00, 0.00]  0.00 [0.00, 0.00]  0.00 [0.00, 0.00]  0.00 [0.00, 0.00]"
      ]
     },
     "execution_count": 14,
     "metadata": {},
     "output_type": "execute_result"
    }
   ],
   "source": [
    "run_experiment(\n",
    "        \"correlation_2\",\n",
    "        function=func2,\n",
    "        data_generator=gaussian_data_generator,\n",
    "        data_generator_kwargs=dict(sigma12=0.6, sigma13=0., sigma23=0., N=data_sample))"
   ]
  },
  {
   "cell_type": "markdown",
   "metadata": {
    "slideshow": {
     "slide_type": "slide"
    }
   },
   "source": [
    "Joint effects\n",
    "------------------\n",
    "\n",
    "Sometime a variable can have no influence by itself, but impact the output through a joint work with an other variable.\n",
    "\n",
    "One example of this could be the following function:\n",
    "$$ f(x)= X_0 \\text{ when } x_1 > 0 \\text{ and } x_2 >0 $$\n",
    "$$ f(x) = -X_0 \\text{ else } $$"
   ]
  },
  {
   "cell_type": "code",
   "execution_count": 15,
   "metadata": {
    "slideshow": {
     "slide_type": "fragment"
    }
   },
   "outputs": [
    {
     "data": {
      "text/html": [
       "<div>\n",
       "<style scoped>\n",
       "    .dataframe tbody tr th:only-of-type {\n",
       "        vertical-align: middle;\n",
       "    }\n",
       "\n",
       "    .dataframe tbody tr th {\n",
       "        vertical-align: top;\n",
       "    }\n",
       "\n",
       "    .dataframe thead th {\n",
       "        text-align: right;\n",
       "    }\n",
       "</style>\n",
       "<table border=\"1\" class=\"dataframe\">\n",
       "  <thead>\n",
       "    <tr style=\"text-align: right;\">\n",
       "      <th></th>\n",
       "      <th>S</th>\n",
       "      <th>ST</th>\n",
       "      <th>S_ind</th>\n",
       "      <th>ST_ind</th>\n",
       "    </tr>\n",
       "  </thead>\n",
       "  <tbody>\n",
       "    <tr>\n",
       "      <th>X0</th>\n",
       "      <td>0.65 [0.58, 0.72]</td>\n",
       "      <td>1.00 [0.95, 1.00]</td>\n",
       "      <td>0.65 [0.55, 0.73]</td>\n",
       "      <td>1.00 [0.95, 1.00]</td>\n",
       "    </tr>\n",
       "    <tr>\n",
       "      <th>X1</th>\n",
       "      <td>0.00 [0.00, 0.04]</td>\n",
       "      <td>0.27 [0.20, 0.34]</td>\n",
       "      <td>0.00 [0.00, 0.04]</td>\n",
       "      <td>0.27 [0.21, 0.33]</td>\n",
       "    </tr>\n",
       "    <tr>\n",
       "      <th>X2</th>\n",
       "      <td>0.00 [0.00, 0.03]</td>\n",
       "      <td>0.27 [0.22, 0.32]</td>\n",
       "      <td>0.00 [0.00, 0.04]</td>\n",
       "      <td>0.27 [0.21, 0.33]</td>\n",
       "    </tr>\n",
       "  </tbody>\n",
       "</table>\n",
       "</div>"
      ],
      "text/plain": [
       "                    S                 ST              S_ind             ST_ind\n",
       "X0  0.65 [0.58, 0.72]  1.00 [0.95, 1.00]  0.65 [0.55, 0.73]  1.00 [0.95, 1.00]\n",
       "X1  0.00 [0.00, 0.04]  0.27 [0.20, 0.34]  0.00 [0.00, 0.04]  0.27 [0.21, 0.33]\n",
       "X2  0.00 [0.00, 0.03]  0.27 [0.22, 0.32]  0.00 [0.00, 0.04]  0.27 [0.21, 0.33]"
      ]
     },
     "execution_count": 15,
     "metadata": {},
     "output_type": "execute_result"
    }
   ],
   "source": [
    "func4 = lambda x: x[:, 0] * (((x[:, 1] > 0.5) * (x[:, 2] > 0.5) * 2) - 1)\n",
    "run_experiment(\n",
    "    \"joint_effect_1\",\n",
    "    function=func4, data_generator=gaussian_data_generator,\n",
    "    data_generator_kwargs=dict(sigma12=0., sigma13=0., sigma23=0., var1=1., N=data_sample))"
   ]
  },
  {
   "cell_type": "markdown",
   "metadata": {
    "slideshow": {
     "slide_type": "slide"
    }
   },
   "source": [
    "CVM indices\n",
    "==========\n",
    "\n",
    "There are two main differences between Sobol indices and CVM indices:\n",
    "1. Sobol indices are based on correlations while CVM indices are based on rank\n",
    "2. Sobol indices need access to the function while CVM need only a sample of evaluations"
   ]
  },
  {
   "cell_type": "code",
   "execution_count": 23,
   "metadata": {
    "slideshow": {
     "slide_type": "slide"
    }
   },
   "outputs": [],
   "source": [
    "from CVM_indices.CVM_draft import analyze as cvm_analyse\n",
    "\n",
    "def run_cvm_experiment(experiment_name, function, data_generator, data_generator_kwargs, real_function=None):\n",
    "    data = data_generator(**data_generator_kwargs)\n",
    "    if real_function is not None:\n",
    "        y = np.abs(function[0](data) - real_function[0](data))\n",
    "    else:\n",
    "        y = function[0](data)\n",
    "    x = pd.DataFrame(data, columns=[\"x_{}\".format(i) for i in range(data.shape[1])])\n",
    "    x[\"Y\"] = y\n",
    "    return cvm_analyse(x=x, output_var=\"Y\")"
   ]
  },
  {
   "cell_type": "markdown",
   "metadata": {
    "slideshow": {
     "slide_type": "slide"
    }
   },
   "source": [
    "We will showcase how to analyse the error of a predictor using CVM indices.\n",
    "This is done by using two functions:\n",
    "- the *true* function wich is sampled in the dataset (our `y_true`)\n",
    "- the *estimated* function which is learned ( out `y_pred` )"
   ]
  },
  {
   "cell_type": "code",
   "execution_count": 21,
   "metadata": {
    "slideshow": {
     "slide_type": "fragment"
    }
   },
   "outputs": [],
   "source": [
    "func_real1 = lambda x: x[:, 0] + x[:, 1], 'f(x) -> X_0 + X_1'\n",
    "func_pred1 = lambda x: x[:, 0] + x[:, 1], 'f(x) -> X_0 + X_1'\n",
    "func_pred2 = lambda x: x[:, 0], 'f(x) -> X_0'"
   ]
  },
  {
   "cell_type": "code",
   "execution_count": 24,
   "metadata": {
    "slideshow": {
     "slide_type": "slide"
    }
   },
   "outputs": [
    {
     "data": {
      "text/html": [
       "<div>\n",
       "<style scoped>\n",
       "    .dataframe tbody tr th:only-of-type {\n",
       "        vertical-align: middle;\n",
       "    }\n",
       "\n",
       "    .dataframe tbody tr th {\n",
       "        vertical-align: top;\n",
       "    }\n",
       "\n",
       "    .dataframe thead th {\n",
       "        text-align: right;\n",
       "    }\n",
       "</style>\n",
       "<table border=\"1\" class=\"dataframe\">\n",
       "  <thead>\n",
       "    <tr style=\"text-align: right;\">\n",
       "      <th></th>\n",
       "      <th>CVM</th>\n",
       "      <th>CVM_indep</th>\n",
       "    </tr>\n",
       "  </thead>\n",
       "  <tbody>\n",
       "    <tr>\n",
       "      <th>x_0</th>\n",
       "      <td>0.006800</td>\n",
       "      <td>0.006405</td>\n",
       "    </tr>\n",
       "    <tr>\n",
       "      <th>x_1</th>\n",
       "      <td>0.004391</td>\n",
       "      <td>0.000000</td>\n",
       "    </tr>\n",
       "    <tr>\n",
       "      <th>x_2</th>\n",
       "      <td>0.006250</td>\n",
       "      <td>0.000000</td>\n",
       "    </tr>\n",
       "  </tbody>\n",
       "</table>\n",
       "</div>"
      ],
      "text/plain": [
       "          CVM  CVM_indep\n",
       "x_0  0.006800   0.006405\n",
       "x_1  0.004391   0.000000\n",
       "x_2  0.006250   0.000000"
      ]
     },
     "execution_count": 24,
     "metadata": {},
     "output_type": "execute_result"
    }
   ],
   "source": [
    "run_cvm_experiment(\n",
    "    \"CVM_error_1\",\n",
    "    function=func_pred1, real_function=func_real1, data_generator=gaussian_data_generator,\n",
    "    data_generator_kwargs=dict(sigma12=0., sigma13=0., sigma23=0., var1=1., N=data_sample))"
   ]
  },
  {
   "cell_type": "code",
   "execution_count": 26,
   "metadata": {
    "slideshow": {
     "slide_type": "fragment"
    }
   },
   "outputs": [
    {
     "data": {
      "text/html": [
       "<div>\n",
       "<style scoped>\n",
       "    .dataframe tbody tr th:only-of-type {\n",
       "        vertical-align: middle;\n",
       "    }\n",
       "\n",
       "    .dataframe tbody tr th {\n",
       "        vertical-align: top;\n",
       "    }\n",
       "\n",
       "    .dataframe thead th {\n",
       "        text-align: right;\n",
       "    }\n",
       "</style>\n",
       "<table border=\"1\" class=\"dataframe\">\n",
       "  <thead>\n",
       "    <tr style=\"text-align: right;\">\n",
       "      <th></th>\n",
       "      <th>CVM</th>\n",
       "      <th>CVM_indep</th>\n",
       "    </tr>\n",
       "  </thead>\n",
       "  <tbody>\n",
       "    <tr>\n",
       "      <th>x_0</th>\n",
       "      <td>0.006956</td>\n",
       "      <td>0.000000</td>\n",
       "    </tr>\n",
       "    <tr>\n",
       "      <th>x_1</th>\n",
       "      <td>0.999562</td>\n",
       "      <td>0.909522</td>\n",
       "    </tr>\n",
       "    <tr>\n",
       "      <th>x_2</th>\n",
       "      <td>0.002992</td>\n",
       "      <td>0.000000</td>\n",
       "    </tr>\n",
       "  </tbody>\n",
       "</table>\n",
       "</div>"
      ],
      "text/plain": [
       "          CVM  CVM_indep\n",
       "x_0  0.006956   0.000000\n",
       "x_1  0.999562   0.909522\n",
       "x_2  0.002992   0.000000"
      ]
     },
     "execution_count": 26,
     "metadata": {},
     "output_type": "execute_result"
    }
   ],
   "source": [
    "run_cvm_experiment(\n",
    "    \"CVM_error_2\",\n",
    "    function=func_pred2, real_function=func_real1, data_generator=gaussian_data_generator,\n",
    "    data_generator_kwargs=dict(sigma12=0., sigma13=0., sigma23=0., var1=1., N=data_sample))"
   ]
  },
  {
   "cell_type": "markdown",
   "metadata": {
    "slideshow": {
     "slide_type": "slide"
    }
   },
   "source": [
    "Conclusions\n",
    "==========\n",
    "\n",
    "- Sobol indices range from 0 (no influence) to 1 (all influence explained by a variable).\n",
    "- It account both the input distribution and the function.\n",
    "- correlations are captured by the regular indices but not by the independent indices.\n",
    "- joint effects are captured by the total indices but not by the regular indices.\n",
    "\n",
    "Main limitations:\n",
    "- interactions are modeled with a gaussian copula (capture only linear correlations + may not work for degenerate cases). Theory allow the use of other copulas and other decompositions (openturn library contains an API for those).\n",
    "- Does not allow to construct fairness based on errors (eg. equality of odds) as the sampling evaluate the function on points that are not necessarly in the dataset."
   ]
  },
  {
   "cell_type": "markdown",
   "metadata": {
    "slideshow": {
     "slide_type": "slide"
    }
   },
   "source": [
    "Applications\n",
    "==========\n",
    "\n",
    "- Detection of biases: traditional Fairness\n",
    "- integration of domain knowledge: by performing regularisation of training\n",
    "- dataset shift: by comparing indices between train/test sets\n",
    "- to improve applications where correlation is used: for instance, explainability"
   ]
  }
 ],
 "metadata": {
  "celltoolbar": "Diaporama",
  "kernelspec": {
   "display_name": "Python 3",
   "language": "python",
   "name": "python3"
  },
  "language_info": {
   "codemirror_mode": {
    "name": "ipython",
    "version": 3
   },
   "file_extension": ".py",
   "mimetype": "text/x-python",
   "name": "python",
   "nbconvert_exporter": "python",
   "pygments_lexer": "ipython3",
   "version": "3.7.5"
  }
 },
 "nbformat": 4,
 "nbformat_minor": 4
}