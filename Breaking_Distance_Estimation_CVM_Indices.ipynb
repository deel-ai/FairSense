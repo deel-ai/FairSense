{
 "cells": [
  {
   "cell_type": "markdown",
   "id": "backed-malawi",
   "metadata": {},
   "source": [
    "# CVM Indices - Breaking Distance Estimation dataset"
   ]
  },
  {
   "cell_type": "markdown",
   "id": "incomplete-sharing",
   "metadata": {},
   "source": [
    "## Loading BDE dataset and model architecture"
   ]
  },
  {
   "cell_type": "code",
   "execution_count": 1,
   "id": "supposed-lying",
   "metadata": {},
   "outputs": [],
   "source": [
    "from datasets import Datasets\n",
    "\n",
    "\n",
    "# Load PyTorch dataloader, data scaler, dataframes of data\n",
    "dataloader, scaler, fit_colnames, df_train, y_train, df_val, y_val, df_test, y_test = \\\n",
    "    Datasets.load_Breaking_Distance_Estimation()"
   ]
  },
  {
   "cell_type": "code",
   "execution_count": 2,
   "id": "interstate-turtle",
   "metadata": {},
   "outputs": [
    {
     "name": "stdout",
     "output_type": "stream",
     "text": [
      "[TRAIN] loss = 1993035.618\n",
      "[VALID] loss = 1987170.383\n",
      "[TEST ] loss = 1989857.499\n"
     ]
    }
   ],
   "source": [
    "from models import create_BDE_model, evaluate_BDE_model\n",
    "\n",
    "\n",
    "# Create the neural network model for BDE\n",
    "model = create_BDE_model(scaler, fit_colnames)\n",
    "\n",
    "# Initial evaluation of the BDE model on the three datasets (train/val/test)\n",
    "Xs = (df_train, df_val, df_test) ; Ys = (y_train, y_val, y_test)\n",
    "evaluate_BDE_model(model, Xs, Ys)"
   ]
  },
  {
   "cell_type": "markdown",
   "id": "virtual-romantic",
   "metadata": {},
   "source": [
    "## Fit a model (or load an existing one)"
   ]
  },
  {
   "cell_type": "code",
   "execution_count": 3,
   "id": "involved-assignment",
   "metadata": {},
   "outputs": [],
   "source": [
    "# from models import fit_BDE_model, save_model\n",
    "\n",
    "\n",
    "# # Fit the model for 400 epochs onto training/validation data\n",
    "# fit_BDE_model(model, dataloader, df_train, y_train, df_val, y_val, epochs=400)\n",
    "\n",
    "# # Save the trained model \n",
    "# save_model(model, path='./saved_models/model_BDE_epo-400_mse-170.pt')"
   ]
  },
  {
   "cell_type": "code",
   "execution_count": 4,
   "id": "peaceful-output",
   "metadata": {},
   "outputs": [],
   "source": [
    "from models import load_model\n",
    "\n",
    "\n",
    "# Load a previously trained model\n",
    "load_model(model, path='./saved_models/model_BDE_epo-400_mse-170.pt')"
   ]
  },
  {
   "cell_type": "code",
   "execution_count": 5,
   "id": "combined-label",
   "metadata": {},
   "outputs": [
    {
     "name": "stdout",
     "output_type": "stream",
     "text": [
      "[TRAIN] loss = 172.788\n",
      "[VALID] loss = 172.435\n",
      "[TEST ] loss = 189.172\n"
     ]
    }
   ],
   "source": [
    "# Evaluation of a BDE trained model on the three datasets (train/val/test)\n",
    "Xs = (df_train, df_val, df_test) ; Ys = (y_train, y_val, y_test)\n",
    "evaluate_BDE_model(model, Xs, Ys)"
   ]
  },
  {
   "cell_type": "markdown",
   "id": "private-species",
   "metadata": {},
   "source": [
    "## Compute the CVM indices"
   ]
  },
  {
   "cell_type": "code",
   "execution_count": 9,
   "id": "sapphire-blame",
   "metadata": {},
   "outputs": [
    {
     "data": {
      "image/png": "[encoded data removed]",
      "text/plain": [
       "<Figure size 936x432 with 1 Axes>"
      ]
     },
     "metadata": {
      "needs_background": "light"
     },
     "output_type": "display_data"
    }
   ],
   "source": [
    "from methods import CVMIndices\n",
    "\n",
    "\n",
    "# Compute the Cramer-Von-Mises indices on the training set\n",
    "cvm_indices = CVMIndices.compute(df_train, y_train)\n",
    "\n",
    "# Visualize the CVM indices on a dedicated barchart\n",
    "CVMIndices.visualize_barcharts(cvm_indices)"
   ]
  },
  {
   "cell_type": "code",
   "execution_count": null,
   "id": "preceding-roberts",
   "metadata": {},
   "outputs": [],
   "source": []
  },
  {
   "cell_type": "code",
   "execution_count": null,
   "id": "classical-commonwealth",
   "metadata": {},
   "outputs": [],
   "source": []
  },
  {
   "cell_type": "code",
   "execution_count": null,
   "id": "joined-greene",
   "metadata": {},
   "outputs": [],
   "source": []
  }
 ],
 "metadata": {
  "kernelspec": {
   "display_name": "Python 3",
   "language": "python",
   "name": "python3"
  },
  "language_info": {
   "codemirror_mode": {
    "name": "ipython",
    "version": 3
   },
   "file_extension": ".py",
   "mimetype": "text/x-python",
   "name": "python",
   "nbconvert_exporter": "python",
   "pygments_lexer": "ipython3",
   "version": "3.6.9"
  }
 },
 "nbformat": 4,
 "nbformat_minor": 5
}
