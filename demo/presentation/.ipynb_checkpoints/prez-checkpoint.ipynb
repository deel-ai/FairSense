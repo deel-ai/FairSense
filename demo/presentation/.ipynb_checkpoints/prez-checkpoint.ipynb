{
 "cells": [
  {
   "cell_type": "markdown",
   "id": "0248d488-def9-4fa3-92e1-3941c0ffe6f9",
   "metadata": {
    "slideshow": {
     "slide_type": "slide"
    },
    "tags": []
   },
   "source": [
    "# Présentation de fin de stage\n",
    "\n",
    "## Mise en open source d'une librairie de fairness\n",
    "\n",
    "1. Contexte\n",
    "2. Architecture et choix techniques\n",
    "3. Démo\n",
    "\n",
    "*Langlade Alexandre encadré par Boissin Thibaut*"
   ]
  },
  {
   "cell_type": "markdown",
   "id": "4c4a60f5-ce5a-4862-be49-5e57274e2fd9",
   "metadata": {
    "slideshow": {
     "slide_type": "slide"
    },
    "tags": []
   },
   "source": [
    "# Contexte\n",
    "\n",
    "- Continuité du travail *Fairness seen as Global Sensitivity Analysis* (Clément Bénesse, Fabrice Gamboa, Jean-Michel Loubes, Thibaut Boissin)\n",
    "\n",
    "- Rassembler les calculs d'indices en un seul outil\n",
    "\n",
    "- Modulariser pour l'ajout futur de fonctionnalité"
   ]
  },
  {
   "cell_type": "markdown",
   "id": "fd4f5df2-1a98-4e12-9973-94d95033d470",
   "metadata": {
    "slideshow": {
     "slide_type": "slide"
    },
    "tags": []
   },
   "source": [
    "# Architecture et articulation du code\n",
    "\n",
    "![alt text](architecture.png)\n",
    "\n",
    "- Modules\n",
    "    - data_management : gestion, formatage et vérification des données\n",
    "    - indices : contient les fonctions de calculs\n",
    "    - visualization : gère l'affichage des résultats\n",
    "- La liaison entre les modules se fait via la classe FairnessProblem"
   ]
  },
  {
   "cell_type": "markdown",
   "id": "c2519dce-c625-4020-b2fa-4eb033b22f1d",
   "metadata": {
    "slideshow": {
     "slide_type": "subslide"
    },
    "tags": []
   },
   "source": [
    "## La Classe FairnessProblem\n",
    "\n",
    "![alt text](class_fairnessproblem.png)\n",
    "### Attributes :\n",
    "- inputs\n",
    "- columns\n",
    "- outputs\n",
    "- labels\n",
    "- function\n",
    "- groups_studied\n",
    "- categorical_features\n",
    "- result\n",
    "\n",
    "La classe passe en paramètre des fonctions."
   ]
  },
  {
   "cell_type": "markdown",
   "id": "9a301a0e-af8a-4bf9-9ef8-87702e31cbc5",
   "metadata": {
    "slideshow": {
     "slide_type": "slide"
    },
    "tags": []
   },
   "source": [
    "# Démo\n",
    "\n"
   ]
  },
  {
   "cell_type": "code",
   "execution_count": 1,
   "id": "65e86b9a-34a1-41c0-a808-0500c5e73920",
   "metadata": {
    "slideshow": {
     "slide_type": "skip"
    },
    "tags": []
   },
   "outputs": [],
   "source": [
    "import libfairness\n",
    "import numpy as np\n",
    "import pandas as pd\n",
    "from libfairness.data_management import utils\n",
    "from libfairness.data_management.factory import create_fairness_problem\n",
    "from libfairness.indices.standard_metrics import compute_disparate_impact\n",
    "from libfairness.visualization.standard_metrics_visu import visu_disparate_impact\n",
    "from libfairness.indices.sobol import compute_sobol\n",
    "from libfairness.visualization.sobol_visu import visu_sobol\n",
    "from libfairness.indices.cvm import compute_cvm\n",
    "from libfairness.visualization.cvm_visu import visu_cvm\n",
    "from sklearn import tree\n",
    "from sklearn.datasets import load_iris"
   ]
  },
  {
   "cell_type": "code",
   "execution_count": 2,
   "id": "6e1ffb45-17f7-4a0c-8ea9-ddc065c2c9fe",
   "metadata": {
    "slideshow": {
     "slide_type": "slide"
    },
    "tags": []
   },
   "outputs": [
    {
     "name": "stdout",
     "output_type": "stream",
     "text": [
      "   Older_than_40 Graduated  Gender\n",
      "0            1.0       0.0  Female\n",
      "1            1.0       0.0  Female\n",
      "2            1.0       1.0    Male\n",
      "3            1.0       1.0    Male\n",
      "4            0.0       1.0    Male\n",
      "5            1.0       0.0  Female\n",
      "6            1.0       1.0    Male\n",
      "7            0.0       1.0    Male\n",
      "8            1.0       1.0  Female\n",
      "9            1.0       1.0    Male\n",
      "10           0.0       0.0  Female\n",
      "11           0.0       0.0  Female\n",
      "12           0.0       1.0  Female\n",
      "13           1.0       0.0    Male\n",
      "14           1.0       1.0    Male\n",
      "15           1.0       1.0    Male\n",
      "16           0.0       1.0    Male\n",
      "17           1.0       1.0    Male\n",
      "18           0.0       0.0  Female\n",
      "19           1.0       1.0  Female\n"
     ]
    }
   ],
   "source": [
    "headers = [\"Older_than_40\",\"Graduated\",\"Gender\"]\n",
    "inputs = np.array([[1., 0.,\"Female\"], [1., 0.,\"Female\"], [1., 1.,\"Male\"], [1., 1.,\"Male\"], [0., 1.,\"Male\"], [1., 0.,\"Female\"], [1., 1.,\"Male\"], [0., 1.,\"Male\"], [1., 1.,\"Female\"], [\n",
    "                1., 1.,\"Male\"], [0., 0.,\"Female\"], [0., 0.,\"Female\"], [0., 1.,\"Female\"], [1., 0.,\"Male\"], [1., 1.,\"Male\"], [1., 1.,\"Male\"], [0., 1.,\"Male\"], [1., 1.,\"Male\"], [0., 0.,\"Female\"], [1., 1.,\"Female\"]])\n",
    "outputs = np.array([[0],[1],[0],[1],[1],[0],[1],[1],[0],[0],[0],[1],[0],[0],[1],[1],[1],[0],[1],[0]])\n",
    "\n",
    "datas = pd.DataFrame(inputs,columns=headers)\n",
    "print(datas)"
   ]
  },
  {
   "cell_type": "code",
   "execution_count": 3,
   "id": "e5b25df2-63e3-4968-89e3-2b8f06c71342",
   "metadata": {
    "slideshow": {
     "slide_type": "subslide"
    },
    "tags": []
   },
   "outputs": [
    {
     "name": "stdout",
     "output_type": "stream",
     "text": [
      "['Older_than_40', 'Graduated', 'Gender']\n",
      "[['1.0' '0.0' 'Female']\n",
      " ['1.0' '0.0' 'Female']\n",
      " ['1.0' '1.0' 'Male']\n",
      " ['1.0' '1.0' 'Male']\n",
      " ['0.0' '1.0' 'Male']\n",
      " ['1.0' '0.0' 'Female']\n",
      " ['1.0' '1.0' 'Male']\n",
      " ['0.0' '1.0' 'Male']\n",
      " ['1.0' '1.0' 'Female']\n",
      " ['1.0' '1.0' 'Male']\n",
      " ['0.0' '0.0' 'Female']\n",
      " ['0.0' '0.0' 'Female']\n",
      " ['0.0' '1.0' 'Female']\n",
      " ['1.0' '0.0' 'Male']\n",
      " ['1.0' '1.0' 'Male']\n",
      " ['1.0' '1.0' 'Male']\n",
      " ['0.0' '1.0' 'Male']\n",
      " ['1.0' '1.0' 'Male']\n",
      " ['0.0' '0.0' 'Female']\n",
      " ['1.0' '1.0' 'Female']]\n"
     ]
    }
   ],
   "source": [
    "my_problem = create_fairness_problem(inputs=inputs, outputs=outputs, categorical_features=[\"Gender\"], columns=headers)\n",
    "print(my_problem.get_columns())\n",
    "print(my_problem.get_inputs())"
   ]
  },
  {
   "cell_type": "code",
   "execution_count": 4,
   "id": "315c2b44-1695-4640-820d-7d56d090d10a",
   "metadata": {
    "slideshow": {
     "slide_type": "subslide"
    },
    "tags": []
   },
   "outputs": [
    {
     "name": "stdout",
     "output_type": "stream",
     "text": [
      "['Older_than_40', 'Graduated', 'Gender_Female', 'Gender_Male']\n",
      "[[1. 0. 1. 0.]\n",
      " [1. 0. 1. 0.]\n",
      " [1. 1. 0. 1.]\n",
      " [1. 1. 0. 1.]\n",
      " [0. 1. 0. 1.]\n",
      " [1. 0. 1. 0.]\n",
      " [1. 1. 0. 1.]\n",
      " [0. 1. 0. 1.]\n",
      " [1. 1. 1. 0.]\n",
      " [1. 1. 0. 1.]\n",
      " [0. 0. 1. 0.]\n",
      " [0. 0. 1. 0.]\n",
      " [0. 1. 1. 0.]\n",
      " [1. 0. 0. 1.]\n",
      " [1. 1. 0. 1.]\n",
      " [1. 1. 0. 1.]\n",
      " [0. 1. 0. 1.]\n",
      " [1. 1. 0. 1.]\n",
      " [0. 0. 1. 0.]\n",
      " [1. 1. 1. 0.]]\n"
     ]
    }
   ],
   "source": [
    "utils.binarize(my_problem)\n",
    "my_problem.set_inputs(my_problem.get_inputs().astype(np.float))\n",
    "print(my_problem.get_columns())\n",
    "print(my_problem.get_inputs())"
   ]
  },
  {
   "cell_type": "code",
   "execution_count": 5,
   "id": "decda0bf-0e29-4ffd-a7fb-d8936fba68f4",
   "metadata": {
    "slideshow": {
     "slide_type": "subslide"
    },
    "tags": []
   },
   "outputs": [
    {
     "data": {
      "image/png": "[encoded data removed]",
      "text/plain": [
       "<Figure size 432x288 with 1 Axes>"
      ]
     },
     "metadata": {},
     "output_type": "display_data"
    }
   ],
   "source": [
    "gs = [[\"Older_than_40\"],[\"Graduated\"],[\"Gender_Male\"]]\n",
    "my_problem.set_groups_studied(gs)\n",
    "compute_disparate_impact(my_problem)\n",
    "visu_disparate_impact(my_problem)"
   ]
  },
  {
   "cell_type": "markdown",
   "id": "2e98aa8b-8ba6-4879-bacf-d50c5d3a53f2",
   "metadata": {
    "slideshow": {
     "slide_type": "slide"
    },
    "tags": []
   },
   "source": [
    "## Exemple Sobol"
   ]
  },
  {
   "cell_type": "code",
   "execution_count": 6,
   "id": "46088825-d940-470c-a7c5-f6236222f63b",
   "metadata": {
    "slideshow": {
     "slide_type": "skip"
    },
    "tags": []
   },
   "outputs": [],
   "source": [
    "def gaussian_data_generator(sigma12, sigma13, sigma23, N, var1=1., var2=1., var3=1.):\n",
    "    cov = np.mat([\n",
    "        [var1, sigma12, sigma13],\n",
    "        [sigma12, var2, sigma23],\n",
    "        [sigma13, sigma23, var3]\n",
    "    ])\n",
    "    x = np.random.multivariate_normal(\n",
    "        mean=np.array([0, 0, 0]),\n",
    "        cov=cov,\n",
    "        size=N\n",
    "    )\n",
    "    return x\n",
    "\n",
    "pd.set_option('display.max_columns', None)\n",
    "pd.set_option('display.width', None)\n",
    "\n",
    "nsample = 5*10**2\n",
    "data_sample = 10**4\n",
    "bootstrap_size = 150\n",
    "\n",
    "# Data\n",
    "def func(x): return np.sum(x, axis=1)\n",
    "data = gaussian_data_generator(\n",
    "    sigma12=0., sigma13=0., sigma23=0., N=data_sample)"
   ]
  },
  {
   "cell_type": "code",
   "execution_count": 7,
   "id": "465f8a9a-e8ba-4bae-9ffd-c9ddd25ff443",
   "metadata": {
    "slideshow": {
     "slide_type": "subslide"
    },
    "tags": []
   },
   "outputs": [
    {
     "name": "stderr",
     "output_type": "stream",
     "text": [
      "100%|█████████████████████████████████████████████████████████████████████████████████████████████| 150/150 [00:03<00:00, 43.32it/s]\n"
     ]
    },
    {
     "data": {
      "image/png": "[encoded data removed]",
      "text/plain": [
       "<Figure size 432x288 with 4 Axes>"
      ]
     },
     "metadata": {},
     "output_type": "display_data"
    }
   ],
   "source": [
    "my_problem2 = create_fairness_problem(inputs=data, function=func)\n",
    "compute_sobol(my_problem2, n=nsample, bs=bootstrap_size)\n",
    "visu_sobol(my_problem2)"
   ]
  },
  {
   "cell_type": "markdown",
   "id": "5af27d0c-4c4e-4a09-a412-d09086a5c914",
   "metadata": {
    "slideshow": {
     "slide_type": "slide"
    },
    "tags": []
   },
   "source": [
    "## Exemple Cramér-von-Mises"
   ]
  },
  {
   "cell_type": "code",
   "execution_count": 8,
   "id": "912a5aff-54c6-4661-bcbc-30b9a9887856",
   "metadata": {
    "slideshow": {
     "slide_type": "skip"
    },
    "tags": []
   },
   "outputs": [],
   "source": [
    "iris = load_iris()\n",
    "X, y = iris.data, iris.target\n",
    "\n",
    "y_train_0 = y[:40]\n",
    "y_test_0 = y[40:50]\n",
    "y_train_1 = y[50:90]\n",
    "y_test_1 = y[90:100]\n",
    "y_train_2 = y[100:140]\n",
    "y_test_2 = y[140:150]\n",
    "\n",
    "y_train = np.concatenate((y_train_0, y_train_1, y_train_2), axis=0)\n",
    "y_test = np.concatenate((y_test_0, y_test_1, y_test_2), axis=0)\n",
    "\n",
    "X_train_0 = X[:40, :]\n",
    "X_test_0 = X[40:50, :]\n",
    "X_train_1 = X[50:90, :]\n",
    "X_test_1 = X[90:100, :]\n",
    "X_train_2 = X[100:140, :]\n",
    "X_test_2 = X[140:150, :]\n",
    "\n",
    "X_train = np.concatenate((X_train_0, X_train_1, X_train_2), axis=0)\n",
    "X_test = np.concatenate((X_test_0, X_test_1, X_test_2), axis=0)\n",
    "\n",
    "clf = tree.DecisionTreeClassifier()\n",
    "clf = clf.fit(X_train, y_train)\n",
    "\n",
    "res = clf.predict(X_test)\n",
    "headers = [\"sep_l\",\"sep_w\",\"pet_l\",\"pet_w\"]"
   ]
  },
  {
   "cell_type": "code",
   "execution_count": 9,
   "id": "9ff76910-961a-4d3f-92af-edb570e4d1ad",
   "metadata": {
    "slideshow": {
     "slide_type": "subslide"
    },
    "tags": []
   },
   "outputs": [
    {
     "data": {
      "image/png": "[encoded data removed]",
      "text/plain": [
       "<Figure size 432x288 with 2 Axes>"
      ]
     },
     "metadata": {},
     "output_type": "display_data"
    }
   ],
   "source": [
    "my_problem = create_fairness_problem(inputs=X_test, outputs=res,columns=headers)\n",
    "compute_cvm(my_problem)\n",
    "visu_cvm(my_problem)"
   ]
  }
 ],
 "metadata": {
  "kernelspec": {
   "display_name": "Python 3",
   "language": "python",
   "name": "python3"
  },
  "language_info": {
   "codemirror_mode": {
    "name": "ipython",
    "version": 3
   },
   "file_extension": ".py",
   "mimetype": "text/x-python",
   "name": "python",
   "nbconvert_exporter": "python",
   "pygments_lexer": "ipython3",
   "version": "3.9.1"
  }
 },
 "nbformat": 4,
 "nbformat_minor": 5
}
