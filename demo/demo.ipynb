{
 "cells": [
  {
   "cell_type": "markdown",
   "metadata": {},
   "source": [
    "## Demo: Fairness on regression problems"
   ]
  },
  {
   "cell_type": "code",
   "execution_count": 1,
   "metadata": {},
   "outputs": [],
   "source": [
    "import matplotlib.pyplot as plt\n",
    "import numpy as np\n",
    "import pandas as pd\n",
    "from libfairness.data_management.factory import from_numpy, from_pandas\n",
    "from libfairness.data_management.processing import one_hot_encode\n",
    "from libfairness.indices.confidence_intervals import with_confidence_intervals\n",
    "from libfairness.indices.cvm import cvm_indices\n",
    "from libfairness.indices.standard_metrics import disparate_impact\n",
    "from libfairness.indices.sobol import sobol_indices\n",
    "from libfairness.utils.dataclasses import IndicesInput, IndicesOutput\n",
    "from libfairness.utils.fairnessobjective import y_true, squared_error, y_pred\n",
    "from libfairness.visualization.plots import cat_plot\n",
    "from libfairness.visualization.text import format_with_intervals\n",
    "from sklearn.ensemble import RandomForestRegressor\n",
    "from sklearn.metrics import accuracy_score\n",
    "from sklearn.datasets import load_boston\n",
    "from sklearn.model_selection import train_test_split"
   ]
  },
  {
   "cell_type": "markdown",
   "metadata": {},
   "source": [
    "### I) Study of the intrinsic fairness of the dataset\n",
    "\n",
    "#### data wrangling\n",
    "in this notebook we will work on the boston housing dataset."
   ]
  },
  {
   "cell_type": "markdown",
   "metadata": {},
   "source": [
    "First we will start with computing some indices on the training data to see if the dataset is biased.\n",
    "The first step consist of building the IndicesInput object that stores the data. As we can set the target `y_true` means that we analyse the data, but this can be set to `y_pred` if we want to analyse predictions, or `squared_error` if we want to analyse the error. This parameter can be changer afterward."
   ]
  },
  {
   "cell_type": "code",
   "execution_count": 2,
   "metadata": {},
   "outputs": [
    {
     "data": {
      "text/html": [
       "<div>\n",
       "<style scoped>\n",
       "    .dataframe tbody tr th:only-of-type {\n",
       "        vertical-align: middle;\n",
       "    }\n",
       "\n",
       "    .dataframe tbody tr th {\n",
       "        vertical-align: top;\n",
       "    }\n",
       "\n",
       "    .dataframe thead th {\n",
       "        text-align: right;\n",
       "    }\n",
       "</style>\n",
       "<table border=\"1\" class=\"dataframe\">\n",
       "  <thead>\n",
       "    <tr style=\"text-align: right;\">\n",
       "      <th></th>\n",
       "      <th>CRIM</th>\n",
       "      <th>ZN</th>\n",
       "      <th>INDUS</th>\n",
       "      <th>CHAS</th>\n",
       "      <th>NOX</th>\n",
       "      <th>RM</th>\n",
       "      <th>AGE</th>\n",
       "      <th>DIS</th>\n",
       "      <th>RAD</th>\n",
       "      <th>TAX</th>\n",
       "      <th>PTRATIO</th>\n",
       "      <th>B</th>\n",
       "      <th>LSTAT</th>\n",
       "    </tr>\n",
       "  </thead>\n",
       "  <tbody>\n",
       "    <tr>\n",
       "      <th>0</th>\n",
       "      <td>0.00632</td>\n",
       "      <td>18.0</td>\n",
       "      <td>2.31</td>\n",
       "      <td>0.0</td>\n",
       "      <td>0.538</td>\n",
       "      <td>6.575</td>\n",
       "      <td>65.2</td>\n",
       "      <td>4.0900</td>\n",
       "      <td>1.0</td>\n",
       "      <td>296.0</td>\n",
       "      <td>15.3</td>\n",
       "      <td>396.90</td>\n",
       "      <td>4.98</td>\n",
       "    </tr>\n",
       "    <tr>\n",
       "      <th>1</th>\n",
       "      <td>0.02731</td>\n",
       "      <td>0.0</td>\n",
       "      <td>7.07</td>\n",
       "      <td>0.0</td>\n",
       "      <td>0.469</td>\n",
       "      <td>6.421</td>\n",
       "      <td>78.9</td>\n",
       "      <td>4.9671</td>\n",
       "      <td>2.0</td>\n",
       "      <td>242.0</td>\n",
       "      <td>17.8</td>\n",
       "      <td>396.90</td>\n",
       "      <td>9.14</td>\n",
       "    </tr>\n",
       "    <tr>\n",
       "      <th>2</th>\n",
       "      <td>0.02729</td>\n",
       "      <td>0.0</td>\n",
       "      <td>7.07</td>\n",
       "      <td>0.0</td>\n",
       "      <td>0.469</td>\n",
       "      <td>7.185</td>\n",
       "      <td>61.1</td>\n",
       "      <td>4.9671</td>\n",
       "      <td>2.0</td>\n",
       "      <td>242.0</td>\n",
       "      <td>17.8</td>\n",
       "      <td>392.83</td>\n",
       "      <td>4.03</td>\n",
       "    </tr>\n",
       "    <tr>\n",
       "      <th>3</th>\n",
       "      <td>0.03237</td>\n",
       "      <td>0.0</td>\n",
       "      <td>2.18</td>\n",
       "      <td>0.0</td>\n",
       "      <td>0.458</td>\n",
       "      <td>6.998</td>\n",
       "      <td>45.8</td>\n",
       "      <td>6.0622</td>\n",
       "      <td>3.0</td>\n",
       "      <td>222.0</td>\n",
       "      <td>18.7</td>\n",
       "      <td>394.63</td>\n",
       "      <td>2.94</td>\n",
       "    </tr>\n",
       "    <tr>\n",
       "      <th>4</th>\n",
       "      <td>0.06905</td>\n",
       "      <td>0.0</td>\n",
       "      <td>2.18</td>\n",
       "      <td>0.0</td>\n",
       "      <td>0.458</td>\n",
       "      <td>7.147</td>\n",
       "      <td>54.2</td>\n",
       "      <td>6.0622</td>\n",
       "      <td>3.0</td>\n",
       "      <td>222.0</td>\n",
       "      <td>18.7</td>\n",
       "      <td>396.90</td>\n",
       "      <td>5.33</td>\n",
       "    </tr>\n",
       "  </tbody>\n",
       "</table>\n",
       "</div>"
      ],
      "text/plain": [
       "      CRIM    ZN  INDUS  CHAS    NOX     RM   AGE     DIS  RAD    TAX  \\\n",
       "0  0.00632  18.0   2.31   0.0  0.538  6.575  65.2  4.0900  1.0  296.0   \n",
       "1  0.02731   0.0   7.07   0.0  0.469  6.421  78.9  4.9671  2.0  242.0   \n",
       "2  0.02729   0.0   7.07   0.0  0.469  7.185  61.1  4.9671  2.0  242.0   \n",
       "3  0.03237   0.0   2.18   0.0  0.458  6.998  45.8  6.0622  3.0  222.0   \n",
       "4  0.06905   0.0   2.18   0.0  0.458  7.147  54.2  6.0622  3.0  222.0   \n",
       "\n",
       "   PTRATIO       B  LSTAT  \n",
       "0     15.3  396.90   4.98  \n",
       "1     17.8  396.90   9.14  \n",
       "2     17.8  392.83   4.03  \n",
       "3     18.7  394.63   2.94  \n",
       "4     18.7  396.90   5.33  "
      ]
     },
     "execution_count": 2,
     "metadata": {},
     "output_type": "execute_result"
    }
   ],
   "source": [
    "data = load_boston()\n",
    "# construct IndicesInput object\n",
    "indices_inputs = from_numpy(\n",
    "    x=data.data,\n",
    "    y=data.target,\n",
    "    feature_names=data.feature_names,\n",
    "    target=y_true,\n",
    ")\n",
    "indices_inputs.x.head()"
   ]
  },
  {
   "cell_type": "markdown",
   "metadata": {},
   "source": [
    "We can then apply preprocessing such as one_hot encoding."
   ]
  },
  {
   "cell_type": "code",
   "execution_count": 3,
   "metadata": {},
   "outputs": [],
   "source": [
    "# apply one hot encoding\n",
    "indices_inputs = one_hot_encode(indices_inputs, [\"CHAS\", \"RAD\"])"
   ]
  },
  {
   "cell_type": "markdown",
   "metadata": {},
   "source": [
    "#### indices computation: CVM\n",
    "As we have a regression problem, we use the CVM indices to compute sensitvity analysis."
   ]
  },
  {
   "cell_type": "markdown",
   "metadata": {},
   "source": [
    "We then declare the indices computation functions. The results are stored in a `indicesOuput` object. raw value can be acessed with `.values`, Please note that 0 refers to total independence and 1 refers to total dependence."
   ]
  },
  {
   "cell_type": "code",
   "execution_count": 4,
   "metadata": {},
   "outputs": [
    {
     "data": {
      "text/html": [
       "<div>\n",
       "<style scoped>\n",
       "    .dataframe tbody tr th:only-of-type {\n",
       "        vertical-align: middle;\n",
       "    }\n",
       "\n",
       "    .dataframe tbody tr th {\n",
       "        vertical-align: top;\n",
       "    }\n",
       "\n",
       "    .dataframe thead th {\n",
       "        text-align: right;\n",
       "    }\n",
       "</style>\n",
       "<table border=\"1\" class=\"dataframe\">\n",
       "  <thead>\n",
       "    <tr style=\"text-align: right;\">\n",
       "      <th></th>\n",
       "      <th>CVM</th>\n",
       "      <th>CVM_indep</th>\n",
       "    </tr>\n",
       "  </thead>\n",
       "  <tbody>\n",
       "    <tr>\n",
       "      <th>AGE</th>\n",
       "      <td>0.300932</td>\n",
       "      <td>0.000000</td>\n",
       "    </tr>\n",
       "    <tr>\n",
       "      <th>B</th>\n",
       "      <td>0.302174</td>\n",
       "      <td>0.000000</td>\n",
       "    </tr>\n",
       "    <tr>\n",
       "      <th>CHAS</th>\n",
       "      <td>0.000000</td>\n",
       "      <td>0.000000</td>\n",
       "    </tr>\n",
       "    <tr>\n",
       "      <th>CRIM</th>\n",
       "      <td>0.243869</td>\n",
       "      <td>0.000000</td>\n",
       "    </tr>\n",
       "    <tr>\n",
       "      <th>DIS</th>\n",
       "      <td>0.357619</td>\n",
       "      <td>0.000000</td>\n",
       "    </tr>\n",
       "    <tr>\n",
       "      <th>INDUS</th>\n",
       "      <td>0.272787</td>\n",
       "      <td>0.001875</td>\n",
       "    </tr>\n",
       "    <tr>\n",
       "      <th>LSTAT</th>\n",
       "      <td>0.558240</td>\n",
       "      <td>0.063952</td>\n",
       "    </tr>\n",
       "    <tr>\n",
       "      <th>NOX</th>\n",
       "      <td>0.478985</td>\n",
       "      <td>0.000000</td>\n",
       "    </tr>\n",
       "    <tr>\n",
       "      <th>PTRATIO</th>\n",
       "      <td>0.435468</td>\n",
       "      <td>0.001031</td>\n",
       "    </tr>\n",
       "    <tr>\n",
       "      <th>RAD</th>\n",
       "      <td>0.000000</td>\n",
       "      <td>0.000000</td>\n",
       "    </tr>\n",
       "    <tr>\n",
       "      <th>RM</th>\n",
       "      <td>0.384756</td>\n",
       "      <td>0.001851</td>\n",
       "    </tr>\n",
       "    <tr>\n",
       "      <th>TAX</th>\n",
       "      <td>0.328209</td>\n",
       "      <td>0.017599</td>\n",
       "    </tr>\n",
       "    <tr>\n",
       "      <th>ZN</th>\n",
       "      <td>0.000000</td>\n",
       "      <td>0.000000</td>\n",
       "    </tr>\n",
       "  </tbody>\n",
       "</table>\n",
       "</div>"
      ],
      "text/plain": [
       "              CVM  CVM_indep\n",
       "AGE      0.300932   0.000000\n",
       "B        0.302174   0.000000\n",
       "CHAS     0.000000   0.000000\n",
       "CRIM     0.243869   0.000000\n",
       "DIS      0.357619   0.000000\n",
       "INDUS    0.272787   0.001875\n",
       "LSTAT    0.558240   0.063952\n",
       "NOX      0.478985   0.000000\n",
       "PTRATIO  0.435468   0.001031\n",
       "RAD      0.000000   0.000000\n",
       "RM       0.384756   0.001851\n",
       "TAX      0.328209   0.017599\n",
       "ZN       0.000000   0.000000"
      ]
     },
     "execution_count": 4,
     "metadata": {},
     "output_type": "execute_result"
    }
   ],
   "source": [
    "indices_outputs = cvm_indices(indices_inputs)\n",
    "indices_outputs.values"
   ]
  },
  {
   "cell_type": "markdown",
   "metadata": {},
   "source": [
    "We can now plot those easily using the approriate function from the `visualization` module. The two main parameters are `plot_per` and `kind`:\n",
    "\n",
    "- plot_per (str): can be either `variable` or `index`, when set to `variable`\n",
    "    there is one graph per variable, each graph showing the values of all\n",
    "    indices. Respectively setting to `index` will build one graph per index,\n",
    "    each showing the values for all variable.\n",
    "- kind (str): kind of visualization to produce, can be one of `strip`, `swarm`,\n",
    "    `box`, `violin`, `boxen`, `point`, `bar`.\n",
    "    \n",
    "feel free to play with it !"
   ]
  },
  {
   "cell_type": "code",
   "execution_count": 5,
   "metadata": {},
   "outputs": [
    {
     "data": {
      "text/plain": [
       "<seaborn.axisgrid.FacetGrid at 0x2ad1e7c0408>"
      ]
     },
     "execution_count": 5,
     "metadata": {},
     "output_type": "execute_result"
    },
    {
     "data": {
      "image/png": "[encoded data removed]",
      "text/plain": [
       "<Figure size 720x360 with 2 Axes>"
      ]
     },
     "metadata": {
      "needs_background": "light"
     },
     "output_type": "display_data"
    }
   ],
   "source": [
    "cat_plot(indices_outputs, plot_per=\"index\", kind=\"bar\")"
   ]
  },
  {
   "cell_type": "markdown",
   "metadata": {},
   "source": [
    "#### confidence intervals\n",
    "\n",
    "It is also possible to decorate any indice function with `with_confidence_intervals` to use bootstrapping to compute confidence intervals. We can also use the + operator to compute multiple indices simulteanously. Results with confidence intervals can be visualized either textually with `format_with_intervals` or 'graphically with `cat_plot`"
   ]
  },
  {
   "cell_type": "code",
   "execution_count": 6,
   "metadata": {},
   "outputs": [
    {
     "name": "stderr",
     "output_type": "stream",
     "text": [
      "100%|█████████████████████████████████████████████| 5/5 [00:01<00:00,  4.96it/s]\n"
     ]
    },
    {
     "data": {
      "text/html": [
       "<div>\n",
       "<style scoped>\n",
       "    .dataframe tbody tr th:only-of-type {\n",
       "        vertical-align: middle;\n",
       "    }\n",
       "\n",
       "    .dataframe tbody tr th {\n",
       "        vertical-align: top;\n",
       "    }\n",
       "\n",
       "    .dataframe thead th {\n",
       "        text-align: right;\n",
       "    }\n",
       "</style>\n",
       "<table border=\"1\" class=\"dataframe\">\n",
       "  <thead>\n",
       "    <tr style=\"text-align: right;\">\n",
       "      <th></th>\n",
       "      <th>CVM</th>\n",
       "      <th>CVM_indep</th>\n",
       "    </tr>\n",
       "  </thead>\n",
       "  <tbody>\n",
       "    <tr>\n",
       "      <th>AGE</th>\n",
       "      <td>0.13 [0.01, 0.32]</td>\n",
       "      <td>0.00 [0.00, 0.05]</td>\n",
       "    </tr>\n",
       "    <tr>\n",
       "      <th>B</th>\n",
       "      <td>0.00 [0.00, 0.20]</td>\n",
       "      <td>0.00 [0.00, 0.01]</td>\n",
       "    </tr>\n",
       "    <tr>\n",
       "      <th>CHAS</th>\n",
       "      <td>1.00 [0.83, 1.00]</td>\n",
       "      <td>0.00 [0.00, 0.00]</td>\n",
       "    </tr>\n",
       "    <tr>\n",
       "      <th>CRIM</th>\n",
       "      <td>0.26 [0.07, 0.40]</td>\n",
       "      <td>0.00 [0.00, 0.00]</td>\n",
       "    </tr>\n",
       "    <tr>\n",
       "      <th>DIS</th>\n",
       "      <td>0.44 [0.30, 0.50]</td>\n",
       "      <td>0.00 [0.00, 0.00]</td>\n",
       "    </tr>\n",
       "    <tr>\n",
       "      <th>INDUS</th>\n",
       "      <td>0.58 [0.06, 0.69]</td>\n",
       "      <td>0.00 [0.00, 0.01]</td>\n",
       "    </tr>\n",
       "    <tr>\n",
       "      <th>LSTAT</th>\n",
       "      <td>0.53 [0.34, 0.57]</td>\n",
       "      <td>0.12 [0.00, 0.15]</td>\n",
       "    </tr>\n",
       "    <tr>\n",
       "      <th>NOX</th>\n",
       "      <td>0.20 [0.15, 0.63]</td>\n",
       "      <td>0.00 [0.00, 0.00]</td>\n",
       "    </tr>\n",
       "    <tr>\n",
       "      <th>PTRATIO</th>\n",
       "      <td>0.34 [0.00, 0.61]</td>\n",
       "      <td>0.00 [0.00, 0.00]</td>\n",
       "    </tr>\n",
       "    <tr>\n",
       "      <th>RAD</th>\n",
       "      <td>0.29 [0.00, 0.59]</td>\n",
       "      <td>0.00 [0.00, 0.00]</td>\n",
       "    </tr>\n",
       "    <tr>\n",
       "      <th>RM</th>\n",
       "      <td>0.39 [0.06, 0.60]</td>\n",
       "      <td>0.00 [0.00, 0.00]</td>\n",
       "    </tr>\n",
       "    <tr>\n",
       "      <th>TAX</th>\n",
       "      <td>0.48 [0.03, 0.68]</td>\n",
       "      <td>0.01 [0.00, 0.11]</td>\n",
       "    </tr>\n",
       "    <tr>\n",
       "      <th>ZN</th>\n",
       "      <td>0.88 [0.57, 0.99]</td>\n",
       "      <td>0.00 [0.00, 0.04]</td>\n",
       "    </tr>\n",
       "  </tbody>\n",
       "</table>\n",
       "</div>"
      ],
      "text/plain": [
       "                       CVM          CVM_indep\n",
       "AGE      0.13 [0.01, 0.32]  0.00 [0.00, 0.05]\n",
       "B        0.00 [0.00, 0.20]  0.00 [0.00, 0.01]\n",
       "CHAS     1.00 [0.83, 1.00]  0.00 [0.00, 0.00]\n",
       "CRIM     0.26 [0.07, 0.40]  0.00 [0.00, 0.00]\n",
       "DIS      0.44 [0.30, 0.50]  0.00 [0.00, 0.00]\n",
       "INDUS    0.58 [0.06, 0.69]  0.00 [0.00, 0.01]\n",
       "LSTAT    0.53 [0.34, 0.57]  0.12 [0.00, 0.15]\n",
       "NOX      0.20 [0.15, 0.63]  0.00 [0.00, 0.00]\n",
       "PTRATIO  0.34 [0.00, 0.61]  0.00 [0.00, 0.00]\n",
       "RAD      0.29 [0.00, 0.59]  0.00 [0.00, 0.00]\n",
       "RM       0.39 [0.06, 0.60]  0.00 [0.00, 0.00]\n",
       "TAX      0.48 [0.03, 0.68]  0.01 [0.00, 0.11]\n",
       "ZN       0.88 [0.57, 0.99]  0.00 [0.00, 0.04]"
      ]
     },
     "execution_count": 6,
     "metadata": {},
     "output_type": "execute_result"
    }
   ],
   "source": [
    "cvm_with_ci = with_confidence_intervals(n_splits=5)(cvm_indices)\n",
    "indices_outputs_ci = cvm_with_ci(indices_inputs)\n",
    "format_with_intervals(indices_outputs_ci, quantile=0.05)"
   ]
  },
  {
   "cell_type": "code",
   "execution_count": 7,
   "metadata": {},
   "outputs": [
    {
     "data": {
      "text/plain": [
       "<seaborn.axisgrid.FacetGrid at 0x2ad1f12ff88>"
      ]
     },
     "execution_count": 7,
     "metadata": {},
     "output_type": "execute_result"
    },
    {
     "data": {
      "image/png": "[encoded data removed]",
      "text/plain": [
       "<Figure size 720x360 with 2 Axes>"
      ]
     },
     "metadata": {
      "needs_background": "light"
     },
     "output_type": "display_data"
    }
   ],
   "source": [
    "cat_plot(indices_outputs_ci, plot_per=\"index\", kind=\"bar\")"
   ]
  },
  {
   "cell_type": "markdown",
   "metadata": {},
   "source": [
    "### II) train a model and analyse it's sensitivity\n",
    "\n",
    "#### train the model\n",
    "\n",
    "first we will split the data and then train a basic model on it."
   ]
  },
  {
   "cell_type": "code",
   "execution_count": 8,
   "metadata": {},
   "outputs": [],
   "source": [
    "X_train, X_test, y_train, y_test = train_test_split(data.data, data.target, test_size=0.2, random_state=42)"
   ]
  },
  {
   "cell_type": "markdown",
   "metadata": {},
   "source": [
    "similarly we build the `IndiceInput` object"
   ]
  },
  {
   "cell_type": "code",
   "execution_count": 9,
   "metadata": {},
   "outputs": [],
   "source": [
    "indices_inputs_train = from_numpy(\n",
    "    x=X_train,\n",
    "    y=y_train,\n",
    "    feature_names=data.feature_names,\n",
    ")\n",
    "indices_inputs_train = one_hot_encode(indices_inputs_train, [\"CHAS\", \"RAD\"])\n",
    "indices_inputs_test = from_numpy(\n",
    "    x=X_test,\n",
    "    y=y_test,\n",
    "    feature_names=data.feature_names,\n",
    ")\n",
    "indices_inputs_test = one_hot_encode(indices_inputs_test, [\"CHAS\", \"RAD\"])"
   ]
  },
  {
   "cell_type": "markdown",
   "metadata": {},
   "source": [
    "then we train a basic model: DecisionTree. Note that this analysis can be applied to any callable that can handle numpy array as inputs."
   ]
  },
  {
   "cell_type": "code",
   "execution_count": 10,
   "metadata": {},
   "outputs": [
    {
     "name": "stderr",
     "output_type": "stream",
     "text": [
      "C:\\Users\\thibaut.boissin\\AppData\\Local\\Continuum\\anaconda3\\envs\\global_sensitivity_analysis_fairness\\lib\\site-packages\\ipykernel_launcher.py:2: DataConversionWarning: A column-vector y was passed when a 1d array was expected. Please change the shape of y to (n_samples,), for example using ravel().\n",
      "  \n"
     ]
    },
    {
     "name": "stdout",
     "output_type": "stream",
     "text": [
      "train score: 0.9154398930928861, val score 0.8474730667767555\n"
     ]
    }
   ],
   "source": [
    "model = RandomForestRegressor(250, max_depth=5, min_samples_leaf=3)\n",
    "model.fit(indices_inputs_train.x, indices_inputs_train.y_true)\n",
    "train_score = model.score(indices_inputs_train.x, indices_inputs_train.y_true)\n",
    "val_score = model.score(indices_inputs_test.x, indices_inputs_test.y_true)\n",
    "print(f\"train score: {train_score}, val score {val_score}\")"
   ]
  },
  {
   "cell_type": "markdown",
   "metadata": {},
   "source": [
    "#### compute indices\n",
    "\n",
    "we set the model and the objective"
   ]
  },
  {
   "cell_type": "code",
   "execution_count": 11,
   "metadata": {},
   "outputs": [],
   "source": [
    "indices_inputs_train.model = model.predict\n",
    "indices_inputs_train.objective = y_pred\n",
    "indices_inputs_test.model = model.predict\n",
    "indices_inputs_test.objective = y_pred"
   ]
  },
  {
   "cell_type": "code",
   "execution_count": 12,
   "metadata": {},
   "outputs": [
    {
     "name": "stderr",
     "output_type": "stream",
     "text": [
      "100%|█████████████████████████████████████████████| 5/5 [00:01<00:00,  4.64it/s]\n",
      "100%|█████████████████████████████████████████████| 5/5 [00:26<00:00,  5.31s/it]\n"
     ]
    },
    {
     "data": {
      "text/html": [
       "<div>\n",
       "<style scoped>\n",
       "    .dataframe tbody tr th:only-of-type {\n",
       "        vertical-align: middle;\n",
       "    }\n",
       "\n",
       "    .dataframe tbody tr th {\n",
       "        vertical-align: top;\n",
       "    }\n",
       "\n",
       "    .dataframe thead th {\n",
       "        text-align: right;\n",
       "    }\n",
       "</style>\n",
       "<table border=\"1\" class=\"dataframe\">\n",
       "  <thead>\n",
       "    <tr style=\"text-align: right;\">\n",
       "      <th></th>\n",
       "      <th>CVM</th>\n",
       "      <th>CVM_indep</th>\n",
       "      <th>S</th>\n",
       "      <th>ST</th>\n",
       "      <th>S_ind</th>\n",
       "      <th>ST_ind</th>\n",
       "    </tr>\n",
       "  </thead>\n",
       "  <tbody>\n",
       "    <tr>\n",
       "      <th>AGE</th>\n",
       "      <td>0.00 [0.00, 0.21]</td>\n",
       "      <td>0.00 [0.00, 0.02]</td>\n",
       "      <td>0.06 [0.00, 0.12]</td>\n",
       "      <td>0.04 [0.03, 0.09]</td>\n",
       "      <td>0.03 [0.00, 0.10]</td>\n",
       "      <td>0.01 [0.01, 0.02]</td>\n",
       "    </tr>\n",
       "    <tr>\n",
       "      <th>B</th>\n",
       "      <td>0.00 [0.00, 0.11]</td>\n",
       "      <td>0.00 [0.00, 0.14]</td>\n",
       "      <td>0.00 [0.00, 0.07]</td>\n",
       "      <td>0.07 [0.03, 0.11]</td>\n",
       "      <td>0.00 [0.00, 0.03]</td>\n",
       "      <td>0.00 [0.00, 0.02]</td>\n",
       "    </tr>\n",
       "    <tr>\n",
       "      <th>CHAS</th>\n",
       "      <td>0.85 [0.31, 0.94]</td>\n",
       "      <td>0.00 [0.00, 0.00]</td>\n",
       "      <td>0.00 [0.00, 0.03]</td>\n",
       "      <td>0.01 [0.01, 0.04]</td>\n",
       "      <td>0.00 [0.00, 0.00]</td>\n",
       "      <td>0.01 [0.00, 0.02]</td>\n",
       "    </tr>\n",
       "    <tr>\n",
       "      <th>CRIM</th>\n",
       "      <td>0.06 [0.00, 0.29]</td>\n",
       "      <td>0.01 [0.00, 0.04]</td>\n",
       "      <td>0.04 [0.00, 0.30]</td>\n",
       "      <td>0.08 [0.06, 0.11]</td>\n",
       "      <td>0.11 [0.03, 0.17]</td>\n",
       "      <td>0.01 [0.01, 0.02]</td>\n",
       "    </tr>\n",
       "    <tr>\n",
       "      <th>DIS</th>\n",
       "      <td>0.02 [0.01, 0.21]</td>\n",
       "      <td>0.00 [0.00, 0.00]</td>\n",
       "      <td>0.01 [0.00, 0.24]</td>\n",
       "      <td>0.06 [0.03, 0.11]</td>\n",
       "      <td>0.01 [0.00, 0.11]</td>\n",
       "      <td>0.01 [0.00, 0.03]</td>\n",
       "    </tr>\n",
       "    <tr>\n",
       "      <th>INDUS</th>\n",
       "      <td>0.17 [0.00, 0.35]</td>\n",
       "      <td>0.00 [0.00, 0.01]</td>\n",
       "      <td>0.12 [0.03, 0.17]</td>\n",
       "      <td>0.04 [0.03, 0.06]</td>\n",
       "      <td>0.03 [0.00, 0.12]</td>\n",
       "      <td>0.01 [0.01, 0.02]</td>\n",
       "    </tr>\n",
       "    <tr>\n",
       "      <th>LSTAT</th>\n",
       "      <td>0.00 [0.00, 0.40]</td>\n",
       "      <td>0.00 [0.00, 0.06]</td>\n",
       "      <td>0.05 [0.01, 0.21]</td>\n",
       "      <td>0.12 [0.07, 0.22]</td>\n",
       "      <td>0.02 [0.00, 0.08]</td>\n",
       "      <td>0.01 [0.01, 0.01]</td>\n",
       "    </tr>\n",
       "    <tr>\n",
       "      <th>NOX</th>\n",
       "      <td>0.09 [0.03, 0.53]</td>\n",
       "      <td>0.00 [0.00, 0.00]</td>\n",
       "      <td>0.07 [0.00, 0.10]</td>\n",
       "      <td>0.07 [0.05, 0.12]</td>\n",
       "      <td>0.00 [0.00, 0.02]</td>\n",
       "      <td>0.00 [0.00, 0.02]</td>\n",
       "    </tr>\n",
       "    <tr>\n",
       "      <th>PTRATIO</th>\n",
       "      <td>0.00 [0.00, 0.20]</td>\n",
       "      <td>0.00 [0.00, 0.00]</td>\n",
       "      <td>0.42 [0.31, 0.57]</td>\n",
       "      <td>0.73 [0.71, 0.83]</td>\n",
       "      <td>0.03 [0.01, 0.05]</td>\n",
       "      <td>0.14 [0.11, 0.23]</td>\n",
       "    </tr>\n",
       "    <tr>\n",
       "      <th>RAD</th>\n",
       "      <td>0.00 [0.00, 0.00]</td>\n",
       "      <td>0.00 [0.00, 0.00]</td>\n",
       "      <td>0.00 [0.00, 0.17]</td>\n",
       "      <td>0.04 [0.03, 0.07]</td>\n",
       "      <td>0.02 [0.00, 0.04]</td>\n",
       "      <td>0.02 [0.00, 0.02]</td>\n",
       "    </tr>\n",
       "    <tr>\n",
       "      <th>RM</th>\n",
       "      <td>0.07 [0.00, 0.25]</td>\n",
       "      <td>0.00 [0.00, 0.00]</td>\n",
       "      <td>0.00 [0.00, 0.42]</td>\n",
       "      <td>0.09 [0.06, 0.11]</td>\n",
       "      <td>0.01 [0.00, 0.17]</td>\n",
       "      <td>0.01 [0.01, 0.02]</td>\n",
       "    </tr>\n",
       "    <tr>\n",
       "      <th>TAX</th>\n",
       "      <td>0.00 [0.00, 0.12]</td>\n",
       "      <td>0.00 [0.00, 0.09]</td>\n",
       "      <td>0.05 [0.01, 0.11]</td>\n",
       "      <td>0.22 [0.20, 0.25]</td>\n",
       "      <td>0.00 [0.00, 0.01]</td>\n",
       "      <td>0.01 [0.01, 0.02]</td>\n",
       "    </tr>\n",
       "    <tr>\n",
       "      <th>ZN</th>\n",
       "      <td>0.77 [0.24, 0.88]</td>\n",
       "      <td>0.01 [0.00, 0.05]</td>\n",
       "      <td>0.00 [0.00, 0.00]</td>\n",
       "      <td>0.02 [0.02, 0.06]</td>\n",
       "      <td>0.04 [0.00, 0.15]</td>\n",
       "      <td>0.01 [0.00, 0.01]</td>\n",
       "    </tr>\n",
       "  </tbody>\n",
       "</table>\n",
       "</div>"
      ],
      "text/plain": [
       "                       CVM          CVM_indep                  S  \\\n",
       "AGE      0.00 [0.00, 0.21]  0.00 [0.00, 0.02]  0.06 [0.00, 0.12]   \n",
       "B        0.00 [0.00, 0.11]  0.00 [0.00, 0.14]  0.00 [0.00, 0.07]   \n",
       "CHAS     0.85 [0.31, 0.94]  0.00 [0.00, 0.00]  0.00 [0.00, 0.03]   \n",
       "CRIM     0.06 [0.00, 0.29]  0.01 [0.00, 0.04]  0.04 [0.00, 0.30]   \n",
       "DIS      0.02 [0.01, 0.21]  0.00 [0.00, 0.00]  0.01 [0.00, 0.24]   \n",
       "INDUS    0.17 [0.00, 0.35]  0.00 [0.00, 0.01]  0.12 [0.03, 0.17]   \n",
       "LSTAT    0.00 [0.00, 0.40]  0.00 [0.00, 0.06]  0.05 [0.01, 0.21]   \n",
       "NOX      0.09 [0.03, 0.53]  0.00 [0.00, 0.00]  0.07 [0.00, 0.10]   \n",
       "PTRATIO  0.00 [0.00, 0.20]  0.00 [0.00, 0.00]  0.42 [0.31, 0.57]   \n",
       "RAD      0.00 [0.00, 0.00]  0.00 [0.00, 0.00]  0.00 [0.00, 0.17]   \n",
       "RM       0.07 [0.00, 0.25]  0.00 [0.00, 0.00]  0.00 [0.00, 0.42]   \n",
       "TAX      0.00 [0.00, 0.12]  0.00 [0.00, 0.09]  0.05 [0.01, 0.11]   \n",
       "ZN       0.77 [0.24, 0.88]  0.01 [0.00, 0.05]  0.00 [0.00, 0.00]   \n",
       "\n",
       "                        ST              S_ind             ST_ind  \n",
       "AGE      0.04 [0.03, 0.09]  0.03 [0.00, 0.10]  0.01 [0.01, 0.02]  \n",
       "B        0.07 [0.03, 0.11]  0.00 [0.00, 0.03]  0.00 [0.00, 0.02]  \n",
       "CHAS     0.01 [0.01, 0.04]  0.00 [0.00, 0.00]  0.01 [0.00, 0.02]  \n",
       "CRIM     0.08 [0.06, 0.11]  0.11 [0.03, 0.17]  0.01 [0.01, 0.02]  \n",
       "DIS      0.06 [0.03, 0.11]  0.01 [0.00, 0.11]  0.01 [0.00, 0.03]  \n",
       "INDUS    0.04 [0.03, 0.06]  0.03 [0.00, 0.12]  0.01 [0.01, 0.02]  \n",
       "LSTAT    0.12 [0.07, 0.22]  0.02 [0.00, 0.08]  0.01 [0.01, 0.01]  \n",
       "NOX      0.07 [0.05, 0.12]  0.00 [0.00, 0.02]  0.00 [0.00, 0.02]  \n",
       "PTRATIO  0.73 [0.71, 0.83]  0.03 [0.01, 0.05]  0.14 [0.11, 0.23]  \n",
       "RAD      0.04 [0.03, 0.07]  0.02 [0.00, 0.04]  0.02 [0.00, 0.02]  \n",
       "RM       0.09 [0.06, 0.11]  0.01 [0.00, 0.17]  0.01 [0.01, 0.02]  \n",
       "TAX      0.22 [0.20, 0.25]  0.00 [0.00, 0.01]  0.01 [0.01, 0.02]  \n",
       "ZN       0.02 [0.02, 0.06]  0.04 [0.00, 0.15]  0.01 [0.00, 0.01]  "
      ]
     },
     "execution_count": 12,
     "metadata": {},
     "output_type": "execute_result"
    }
   ],
   "source": [
    "cvm_with_ci = with_confidence_intervals(n_splits=5)(cvm_indices)\n",
    "sobol_with_ci = with_confidence_intervals(n_splits=5)(sobol_indices)\n",
    "indices_outputs_train = cvm_with_ci(indices_inputs_train) + sobol_with_ci(indices_inputs_train)\n",
    "format_with_intervals(indices_outputs_train, quantile=0.1)"
   ]
  },
  {
   "cell_type": "code",
   "execution_count": 13,
   "metadata": {},
   "outputs": [
    {
     "data": {
      "text/plain": [
       "<seaborn.axisgrid.FacetGrid at 0x2ad1f2fd548>"
      ]
     },
     "execution_count": 13,
     "metadata": {},
     "output_type": "execute_result"
    },
    {
     "data": {
      "image/png": "[encoded data removed]",
      "text/plain": [
       "<Figure size 1440x720 with 6 Axes>"
      ]
     },
     "metadata": {
      "needs_background": "light"
     },
     "output_type": "display_data"
    }
   ],
   "source": [
    "cat_plot(indices_outputs_train, plot_per=\"index\", kind=\"bar\", col_wrap=4)"
   ]
  },
  {
   "cell_type": "markdown",
   "metadata": {},
   "source": [
    "#### compare indices from `target=y_true` with indices from `target=y_pred` \n",
    "\n",
    "OK, these results are interesting but we would like to compare the indices obtained with `target=y_true`."
   ]
  },
  {
   "cell_type": "code",
   "execution_count": 14,
   "metadata": {},
   "outputs": [],
   "source": [
    "merged_indices = indices_outputs_ci.runs\n",
    "merged_indices[[\"CVM_model\", \"CVM_indep_model\"]] = indices_outputs_train.runs[[\"CVM\", \"CVM_indep\"]]\n",
    "merged_indices = IndicesOutput(merged_indices[[\"CVM_model\", \"CVM\", \"CVM_indep_model\", \"CVM_indep\"]])"
   ]
  },
  {
   "cell_type": "code",
   "execution_count": 15,
   "metadata": {},
   "outputs": [
    {
     "data": {
      "text/plain": [
       "<seaborn.axisgrid.FacetGrid at 0x2ad23154d48>"
      ]
     },
     "execution_count": 15,
     "metadata": {},
     "output_type": "execute_result"
    },
    {
     "data": {
      "image/png": "[encoded data removed]",
      "text/plain": [
       "<Figure size 1440x1440 with 13 Axes>"
      ]
     },
     "metadata": {
      "needs_background": "light"
     },
     "output_type": "display_data"
    }
   ],
   "source": [
    "cat_plot(merged_indices, plot_per=\"variable\", kind=\"bar\", col_wrap=4)"
   ]
  },
  {
   "cell_type": "markdown",
   "metadata": {},
   "source": [
    "As we can see the model tend to increase the influence of many variables\n",
    "\n",
    "### III) Analysis of the sensitivity of the error\n",
    "\n",
    "Now we want to see if some variable are influent with the error of model."
   ]
  },
  {
   "cell_type": "code",
   "execution_count": 16,
   "metadata": {},
   "outputs": [],
   "source": [
    "indices_inputs_train.objective = squared_error\n",
    "indices_inputs_test.objective = squared_error"
   ]
  },
  {
   "cell_type": "code",
   "execution_count": 17,
   "metadata": {},
   "outputs": [
    {
     "name": "stderr",
     "output_type": "stream",
     "text": [
      "100%|█████████████████████████████████████████████| 5/5 [00:01<00:00,  4.39it/s]\n"
     ]
    },
    {
     "data": {
      "text/html": [
       "<div>\n",
       "<style scoped>\n",
       "    .dataframe tbody tr th:only-of-type {\n",
       "        vertical-align: middle;\n",
       "    }\n",
       "\n",
       "    .dataframe tbody tr th {\n",
       "        vertical-align: top;\n",
       "    }\n",
       "\n",
       "    .dataframe thead th {\n",
       "        text-align: right;\n",
       "    }\n",
       "</style>\n",
       "<table border=\"1\" class=\"dataframe\">\n",
       "  <thead>\n",
       "    <tr style=\"text-align: right;\">\n",
       "      <th></th>\n",
       "      <th>CVM</th>\n",
       "      <th>CVM_indep</th>\n",
       "    </tr>\n",
       "  </thead>\n",
       "  <tbody>\n",
       "    <tr>\n",
       "      <th>AGE</th>\n",
       "      <td>0.00 [0.00, 0.19]</td>\n",
       "      <td>0.14 [0.02, 0.27]</td>\n",
       "    </tr>\n",
       "    <tr>\n",
       "      <th>B</th>\n",
       "      <td>0.00 [0.00, 0.24]</td>\n",
       "      <td>0.00 [0.00, 0.66]</td>\n",
       "    </tr>\n",
       "    <tr>\n",
       "      <th>CHAS</th>\n",
       "      <td>0.00 [0.00, 0.00]</td>\n",
       "      <td>0.00 [0.00, 0.00]</td>\n",
       "    </tr>\n",
       "    <tr>\n",
       "      <th>CRIM</th>\n",
       "      <td>0.00 [0.00, 0.00]</td>\n",
       "      <td>0.00 [0.00, 0.00]</td>\n",
       "    </tr>\n",
       "    <tr>\n",
       "      <th>DIS</th>\n",
       "      <td>0.07 [0.00, 0.14]</td>\n",
       "      <td>0.00 [0.00, 0.00]</td>\n",
       "    </tr>\n",
       "    <tr>\n",
       "      <th>INDUS</th>\n",
       "      <td>0.00 [0.00, 0.00]</td>\n",
       "      <td>0.00 [0.00, 0.07]</td>\n",
       "    </tr>\n",
       "    <tr>\n",
       "      <th>LSTAT</th>\n",
       "      <td>0.11 [0.04, 0.22]</td>\n",
       "      <td>0.00 [0.00, 0.00]</td>\n",
       "    </tr>\n",
       "    <tr>\n",
       "      <th>NOX</th>\n",
       "      <td>0.04 [0.00, 0.05]</td>\n",
       "      <td>0.00 [0.00, 0.00]</td>\n",
       "    </tr>\n",
       "    <tr>\n",
       "      <th>PTRATIO</th>\n",
       "      <td>0.00 [0.00, 0.00]</td>\n",
       "      <td>0.00 [0.00, 0.00]</td>\n",
       "    </tr>\n",
       "    <tr>\n",
       "      <th>RAD</th>\n",
       "      <td>0.00 [0.00, 0.00]</td>\n",
       "      <td>0.00 [0.00, 0.00]</td>\n",
       "    </tr>\n",
       "    <tr>\n",
       "      <th>RM</th>\n",
       "      <td>0.00 [0.00, 0.00]</td>\n",
       "      <td>0.00 [0.00, 0.00]</td>\n",
       "    </tr>\n",
       "    <tr>\n",
       "      <th>TAX</th>\n",
       "      <td>0.00 [0.00, 0.00]</td>\n",
       "      <td>0.03 [0.00, 0.11]</td>\n",
       "    </tr>\n",
       "    <tr>\n",
       "      <th>ZN</th>\n",
       "      <td>0.00 [0.00, 0.00]</td>\n",
       "      <td>0.00 [0.00, 0.12]</td>\n",
       "    </tr>\n",
       "  </tbody>\n",
       "</table>\n",
       "</div>"
      ],
      "text/plain": [
       "                       CVM          CVM_indep\n",
       "AGE      0.00 [0.00, 0.19]  0.14 [0.02, 0.27]\n",
       "B        0.00 [0.00, 0.24]  0.00 [0.00, 0.66]\n",
       "CHAS     0.00 [0.00, 0.00]  0.00 [0.00, 0.00]\n",
       "CRIM     0.00 [0.00, 0.00]  0.00 [0.00, 0.00]\n",
       "DIS      0.07 [0.00, 0.14]  0.00 [0.00, 0.00]\n",
       "INDUS    0.00 [0.00, 0.00]  0.00 [0.00, 0.07]\n",
       "LSTAT    0.11 [0.04, 0.22]  0.00 [0.00, 0.00]\n",
       "NOX      0.04 [0.00, 0.05]  0.00 [0.00, 0.00]\n",
       "PTRATIO  0.00 [0.00, 0.00]  0.00 [0.00, 0.00]\n",
       "RAD      0.00 [0.00, 0.00]  0.00 [0.00, 0.00]\n",
       "RM       0.00 [0.00, 0.00]  0.00 [0.00, 0.00]\n",
       "TAX      0.00 [0.00, 0.00]  0.03 [0.00, 0.11]\n",
       "ZN       0.00 [0.00, 0.00]  0.00 [0.00, 0.12]"
      ]
     },
     "execution_count": 17,
     "metadata": {},
     "output_type": "execute_result"
    }
   ],
   "source": [
    "cvm_with_ci = with_confidence_intervals(n_splits=5)(cvm_indices)\n",
    "indices_outputs_error_test = cvm_with_ci(indices_inputs_test)\n",
    "format_with_intervals(indices_outputs_error_test, quantile=0.1)"
   ]
  },
  {
   "cell_type": "code",
   "execution_count": 18,
   "metadata": {},
   "outputs": [
    {
     "data": {
      "text/plain": [
       "<seaborn.axisgrid.FacetGrid at 0x2ad23fc5448>"
      ]
     },
     "execution_count": 18,
     "metadata": {},
     "output_type": "execute_result"
    },
    {
     "data": {
      "image/png": "[encoded data removed]",
      "text/plain": [
       "<Figure size 1440x1440 with 13 Axes>"
      ]
     },
     "metadata": {
      "needs_background": "light"
     },
     "output_type": "display_data"
    }
   ],
   "source": [
    "cat_plot(indices_outputs_error_test, plot_per=\"variable\", kind=\"box\", col_wrap=4)"
   ]
  }
 ],
 "metadata": {
  "interpreter": {
   "hash": "512c1fa470c578509b3f99b5f3c7ef825006d175f16aef276d2e1a22d5dd3db3"
  },
  "kernelspec": {
   "display_name": "Python 3",
   "language": "python",
   "name": "python3"
  },
  "language_info": {
   "codemirror_mode": {
    "name": "ipython",
    "version": 3
   },
   "file_extension": ".py",
   "mimetype": "text/x-python",
   "name": "python",
   "nbconvert_exporter": "python",
   "pygments_lexer": "ipython3",
   "version": "3.7.9"
  }
 },
 "nbformat": 4,
 "nbformat_minor": 4
}
